{
 "cells": [
  {
   "cell_type": "code",
   "execution_count": 1,
   "metadata": {
    "collapsed": true
   },
   "outputs": [],
   "source": [
    "# Import py_entitymatching package\n",
    "import py_entitymatching as em\n",
    "import os\n",
    "import pandas as pd\n",
    "import numpy as np\n",
    "\n",
    "import warnings\n",
    "warnings.filterwarnings(action=\"ignore\", module=\"scipy\", message=\"^internal gelsd\")"
   ]
  },
  {
   "cell_type": "markdown",
   "metadata": {},
   "source": [
    "# Create features"
   ]
  },
  {
   "cell_type": "code",
   "execution_count": 2,
   "metadata": {},
   "outputs": [
    {
     "name": "stderr",
     "output_type": "stream",
     "text": [
      "Metadata file is not present in the given path; proceeding to read the csv file.\n",
      "Metadata file is not present in the given path; proceeding to read the csv file.\n"
     ]
    },
    {
     "data": {
      "text/plain": [
       "True"
      ]
     },
     "execution_count": 2,
     "metadata": {},
     "output_type": "execute_result"
    }
   ],
   "source": [
    "# Load the pre-labeled data\n",
    "metacriticData = em.read_csv_metadata(\"data/metacritic.csv\")\n",
    "wikiData = em.read_csv_metadata(\"data/wikiData.csv\")\n",
    "\n",
    "# add ID column to each dataset\n",
    "metacriticID = [\"a\" + str(num) for num in np.arange(1, len(metacriticData.index)+1)]\n",
    "wikiID = [\"b\" + str(num) for num in np.arange(1, len(wikiData.index)+1)]\n",
    "\n",
    "col_idx = 0\n",
    "metacriticData.insert(loc = col_idx, column = 'ID', value = metacriticID)\n",
    "wikiData.insert(loc = col_idx, column = 'ID', value = wikiID)\n",
    "em.set_key(wikiData, 'ID')\n",
    "em.set_key(metacriticData, 'ID')"
   ]
  },
  {
   "cell_type": "code",
   "execution_count": 3,
   "metadata": {},
   "outputs": [
    {
     "name": "stderr",
     "output_type": "stream",
     "text": [
      "Metadata file is not present in the given path; proceeding to read the csv file.\n"
     ]
    }
   ],
   "source": [
    "#read in labeled samples\n",
    "S = em.read_csv_metadata(\"candidates_sample.csv\", \n",
    "                         key='_id',\n",
    "                         ltable=metacriticData, rtable=wikiData, \n",
    "                         fk_ltable='ltable_ID', fk_rtable='rtable_ID')"
   ]
  },
  {
   "cell_type": "code",
   "execution_count": 4,
   "metadata": {},
   "outputs": [
    {
     "name": "stderr",
     "output_type": "stream",
     "text": [
      "Metadata file is not present in the given path; proceeding to read the csv file.\n",
      "Metadata file is not present in the given path; proceeding to read the csv file.\n"
     ]
    },
    {
     "name": "stdout",
     "output_type": "stream",
     "text": [
      "Reading I and J from files\n",
      "250\n",
      "250\n"
     ]
    }
   ],
   "source": [
    "# Split S into I an J\n",
    "i_file = \"I.csv\"\n",
    "j_file = \"J.csv\"\n",
    "if not os.path.isfile(i_file): #so you don't delete your labels on accident\n",
    "    IJ = em.split_train_test(S, train_proportion=0.5, random_state=0)\n",
    "    I = IJ['train']\n",
    "    J = IJ['test']\n",
    "    I.to_csv(i_file,sep=\",\")\n",
    "    J.to_csv(j_file,sep=\",\")\n",
    "    print(\"Split samples into I and J\")\n",
    "else:\n",
    "    I = em.read_csv_metadata(i_file,key=\"_id\",ltable=metacriticData,rtable=wikiData,fk_ltable=\"ltable_ID\",fk_rtable=\"rtable_ID\")\n",
    "    J = em.read_csv_metadata(j_file,key=\"_id\",ltable=metacriticData,rtable=wikiData,fk_ltable=\"ltable_ID\",fk_rtable=\"rtable_ID\")\n",
    "    print(\"Reading I and J from files\")\n",
    "print(len(I))\n",
    "print(len(J))"
   ]
  },
  {
   "cell_type": "code",
   "execution_count": 5,
   "metadata": {},
   "outputs": [
    {
     "name": "stderr",
     "output_type": "stream",
     "text": [
      "Column Producer does not seem to qualify as any atomic type. It may contain all NaNs. Please update the values of column Producer\n",
      "Column Meta Score does not seem to qualify as any atomic type. It may contain all NaNs. Please update the values of column Meta Score\n"
     ]
    }
   ],
   "source": [
    "# Generate a set of features\n",
    "F = em.get_features_for_matching(metacriticData, wikiData, validate_inferred_attr_types=False)"
   ]
  },
  {
   "cell_type": "code",
   "execution_count": 6,
   "metadata": {
    "collapsed": true
   },
   "outputs": [],
   "source": [
    "# Convert the I into a set of feature vectors using F\n",
    "H = em.extract_feature_vecs(I, \n",
    "                            feature_table=F, \n",
    "                            attrs_after='label',\n",
    "                            show_progress=False)"
   ]
  },
  {
   "cell_type": "markdown",
   "metadata": {},
   "source": [
    "# Select best learner"
   ]
  },
  {
   "cell_type": "code",
   "execution_count": 7,
   "metadata": {
    "collapsed": true
   },
   "outputs": [],
   "source": [
    "#create learners\n",
    "import random\n",
    "random_state = 0 \n",
    "#random_state = random.randint(0,1000)\n",
    "\n",
    "dt = em.DTMatcher(name='DecisionTree', random_state=random_state)\n",
    "svm = em.SVMMatcher(name='SVM', random_state=random_state)\n",
    "rf = em.RFMatcher(name='RF', random_state=random_state)\n",
    "lg = em.LogRegMatcher(name='LogReg', random_state=random_state)\n",
    "ln = em.LinRegMatcher(name='LinReg')"
   ]
  },
  {
   "cell_type": "code",
   "execution_count": 8,
   "metadata": {},
   "outputs": [
    {
     "data": {
      "text/plain": [
       "Genre_Genre_jac_qgm_3_qgm_3        24\n",
       "Genre_Genre_cos_dlm_dc0_dlm_dc0    24\n",
       "Genre_Genre_jac_dlm_dc0_dlm_dc0    24\n",
       "Genre_Genre_mel                    24\n",
       "Genre_Genre_lev_dist               24\n",
       "Genre_Genre_lev_sim                24\n",
       "Genre_Genre_nmw                    24\n",
       "Genre_Genre_sw                     24\n",
       "Label_Label_jac_qgm_3_qgm_3         5\n",
       "Label_Label_cos_dlm_dc0_dlm_dc0     5\n",
       "Label_Label_jac_dlm_dc0_dlm_dc0     5\n",
       "Label_Label_mel                     5\n",
       "Label_Label_lev_dist                5\n",
       "Label_Label_lev_sim                 5\n",
       "Label_Label_nmw                     5\n",
       "Label_Label_sw                      5\n",
       "dtype: int64"
      ]
     },
     "execution_count": 8,
     "metadata": {},
     "output_type": "execute_result"
    }
   ],
   "source": [
    "#show number of columns that are null\n",
    "null_columns=H.columns[H.isnull().any()]\n",
    "H[null_columns].isnull().sum()"
   ]
  },
  {
   "cell_type": "code",
   "execution_count": 9,
   "metadata": {
    "collapsed": true
   },
   "outputs": [],
   "source": [
    "# Impute feature vectors with the mean of the column values.\n",
    "H = em.impute_table(H, \n",
    "                exclude_attrs=['_id', 'ltable_ID', 'rtable_ID', 'label'],\n",
    "                strategy='mean')"
   ]
  },
  {
   "cell_type": "code",
   "execution_count": 10,
   "metadata": {},
   "outputs": [
    {
     "data": {
      "text/html": [
       "<div>\n",
       "<style scoped>\n",
       "    .dataframe tbody tr th:only-of-type {\n",
       "        vertical-align: middle;\n",
       "    }\n",
       "\n",
       "    .dataframe tbody tr th {\n",
       "        vertical-align: top;\n",
       "    }\n",
       "\n",
       "    .dataframe thead th {\n",
       "        text-align: right;\n",
       "    }\n",
       "</style>\n",
       "<table border=\"1\" class=\"dataframe\">\n",
       "  <thead>\n",
       "    <tr style=\"text-align: right;\">\n",
       "      <th></th>\n",
       "      <th>Matcher</th>\n",
       "      <th>Average precision</th>\n",
       "      <th>Average recall</th>\n",
       "      <th>Average f1</th>\n",
       "    </tr>\n",
       "  </thead>\n",
       "  <tbody>\n",
       "    <tr>\n",
       "      <th>0</th>\n",
       "      <td>DecisionTree</td>\n",
       "      <td>0.934566</td>\n",
       "      <td>0.929703</td>\n",
       "      <td>0.929673</td>\n",
       "    </tr>\n",
       "    <tr>\n",
       "      <th>1</th>\n",
       "      <td>RF</td>\n",
       "      <td>0.985714</td>\n",
       "      <td>0.958421</td>\n",
       "      <td>0.970322</td>\n",
       "    </tr>\n",
       "    <tr>\n",
       "      <th>2</th>\n",
       "      <td>SVM</td>\n",
       "      <td>1.000000</td>\n",
       "      <td>0.224399</td>\n",
       "      <td>0.364633</td>\n",
       "    </tr>\n",
       "    <tr>\n",
       "      <th>3</th>\n",
       "      <td>LinReg</td>\n",
       "      <td>0.972115</td>\n",
       "      <td>0.953036</td>\n",
       "      <td>0.961021</td>\n",
       "    </tr>\n",
       "    <tr>\n",
       "      <th>4</th>\n",
       "      <td>LogReg</td>\n",
       "      <td>0.973214</td>\n",
       "      <td>0.968421</td>\n",
       "      <td>0.968998</td>\n",
       "    </tr>\n",
       "  </tbody>\n",
       "</table>\n",
       "</div>"
      ],
      "text/plain": [
       "        Matcher  Average precision  Average recall  Average f1\n",
       "0  DecisionTree           0.934566        0.929703    0.929673\n",
       "1            RF           0.985714        0.958421    0.970322\n",
       "2           SVM           1.000000        0.224399    0.364633\n",
       "3        LinReg           0.972115        0.953036    0.961021\n",
       "4        LogReg           0.973214        0.968421    0.968998"
      ]
     },
     "execution_count": 10,
     "metadata": {},
     "output_type": "execute_result"
    }
   ],
   "source": [
    "#initial results\n",
    "result = em.select_matcher([dt, rf, svm, ln, lg], table=H, \n",
    "        exclude_attrs=['_id', 'ltable_ID', 'rtable_ID', 'label'],\n",
    "        k=5,\n",
    "        target_attr='label', metric_to_select_matcher='f1', random_state=0)\n",
    "result['cv_stats']"
   ]
  },
  {
   "cell_type": "markdown",
   "metadata": {},
   "source": [
    "- From the above, it looks as though RF gave us best results (in terms of f1-score)"
   ]
  },
  {
   "cell_type": "code",
   "execution_count": 11,
   "metadata": {},
   "outputs": [
    {
     "data": {
      "text/html": [
       "<div>\n",
       "<style scoped>\n",
       "    .dataframe tbody tr th:only-of-type {\n",
       "        vertical-align: middle;\n",
       "    }\n",
       "\n",
       "    .dataframe tbody tr th {\n",
       "        vertical-align: top;\n",
       "    }\n",
       "\n",
       "    .dataframe thead th {\n",
       "        text-align: right;\n",
       "    }\n",
       "</style>\n",
       "<table border=\"1\" class=\"dataframe\">\n",
       "  <thead>\n",
       "    <tr style=\"text-align: right;\">\n",
       "      <th></th>\n",
       "      <th>Name</th>\n",
       "      <th>Matcher</th>\n",
       "      <th>Num folds</th>\n",
       "      <th>Fold 1</th>\n",
       "      <th>Fold 2</th>\n",
       "      <th>Fold 3</th>\n",
       "      <th>Fold 4</th>\n",
       "      <th>Fold 5</th>\n",
       "      <th>Mean score</th>\n",
       "    </tr>\n",
       "  </thead>\n",
       "  <tbody>\n",
       "    <tr>\n",
       "      <th>0</th>\n",
       "      <td>DecisionTree</td>\n",
       "      <td>&lt;py_entitymatching.matcher.dtmatcher.DTMatcher object at 0x112d55fd0&gt;</td>\n",
       "      <td>5</td>\n",
       "      <td>1.0</td>\n",
       "      <td>0.933333</td>\n",
       "      <td>1.0</td>\n",
       "      <td>0.857143</td>\n",
       "      <td>0.882353</td>\n",
       "      <td>0.934566</td>\n",
       "    </tr>\n",
       "    <tr>\n",
       "      <th>1</th>\n",
       "      <td>RF</td>\n",
       "      <td>&lt;py_entitymatching.matcher.rfmatcher.RFMatcher object at 0x112472e10&gt;</td>\n",
       "      <td>5</td>\n",
       "      <td>1.0</td>\n",
       "      <td>1.000000</td>\n",
       "      <td>1.0</td>\n",
       "      <td>0.928571</td>\n",
       "      <td>1.000000</td>\n",
       "      <td>0.985714</td>\n",
       "    </tr>\n",
       "    <tr>\n",
       "      <th>2</th>\n",
       "      <td>SVM</td>\n",
       "      <td>&lt;py_entitymatching.matcher.svmmatcher.SVMMatcher object at 0x112d55860&gt;</td>\n",
       "      <td>5</td>\n",
       "      <td>1.0</td>\n",
       "      <td>1.000000</td>\n",
       "      <td>1.0</td>\n",
       "      <td>1.000000</td>\n",
       "      <td>1.000000</td>\n",
       "      <td>1.000000</td>\n",
       "    </tr>\n",
       "    <tr>\n",
       "      <th>3</th>\n",
       "      <td>LinReg</td>\n",
       "      <td>&lt;py_entitymatching.matcher.linregmatcher.LinRegMatcher object at 0x112472fd0&gt;</td>\n",
       "      <td>5</td>\n",
       "      <td>1.0</td>\n",
       "      <td>0.937500</td>\n",
       "      <td>1.0</td>\n",
       "      <td>0.923077</td>\n",
       "      <td>1.000000</td>\n",
       "      <td>0.972115</td>\n",
       "    </tr>\n",
       "    <tr>\n",
       "      <th>4</th>\n",
       "      <td>LogReg</td>\n",
       "      <td>&lt;py_entitymatching.matcher.logregmatcher.LogRegMatcher object at 0x112d550f0&gt;</td>\n",
       "      <td>5</td>\n",
       "      <td>1.0</td>\n",
       "      <td>0.937500</td>\n",
       "      <td>1.0</td>\n",
       "      <td>0.928571</td>\n",
       "      <td>1.000000</td>\n",
       "      <td>0.973214</td>\n",
       "    </tr>\n",
       "  </tbody>\n",
       "</table>\n",
       "</div>"
      ],
      "text/plain": [
       "           Name  \\\n",
       "0  DecisionTree   \n",
       "1            RF   \n",
       "2           SVM   \n",
       "3        LinReg   \n",
       "4        LogReg   \n",
       "\n",
       "                                                                         Matcher  \\\n",
       "0          <py_entitymatching.matcher.dtmatcher.DTMatcher object at 0x112d55fd0>   \n",
       "1          <py_entitymatching.matcher.rfmatcher.RFMatcher object at 0x112472e10>   \n",
       "2        <py_entitymatching.matcher.svmmatcher.SVMMatcher object at 0x112d55860>   \n",
       "3  <py_entitymatching.matcher.linregmatcher.LinRegMatcher object at 0x112472fd0>   \n",
       "4  <py_entitymatching.matcher.logregmatcher.LogRegMatcher object at 0x112d550f0>   \n",
       "\n",
       "   Num folds  Fold 1    Fold 2  Fold 3    Fold 4    Fold 5  Mean score  \n",
       "0          5     1.0  0.933333     1.0  0.857143  0.882353    0.934566  \n",
       "1          5     1.0  1.000000     1.0  0.928571  1.000000    0.985714  \n",
       "2          5     1.0  1.000000     1.0  1.000000  1.000000    1.000000  \n",
       "3          5     1.0  0.937500     1.0  0.923077  1.000000    0.972115  \n",
       "4          5     1.0  0.937500     1.0  0.928571  1.000000    0.973214  "
      ]
     },
     "execution_count": 11,
     "metadata": {},
     "output_type": "execute_result"
    }
   ],
   "source": [
    "result['drill_down_cv_stats']['precision']\n"
   ]
  },
  {
   "cell_type": "code",
   "execution_count": 12,
   "metadata": {},
   "outputs": [
    {
     "data": {
      "text/html": [
       "<div>\n",
       "<style scoped>\n",
       "    .dataframe tbody tr th:only-of-type {\n",
       "        vertical-align: middle;\n",
       "    }\n",
       "\n",
       "    .dataframe tbody tr th {\n",
       "        vertical-align: top;\n",
       "    }\n",
       "\n",
       "    .dataframe thead th {\n",
       "        text-align: right;\n",
       "    }\n",
       "</style>\n",
       "<table border=\"1\" class=\"dataframe\">\n",
       "  <thead>\n",
       "    <tr style=\"text-align: right;\">\n",
       "      <th></th>\n",
       "      <th>Name</th>\n",
       "      <th>Matcher</th>\n",
       "      <th>Num folds</th>\n",
       "      <th>Fold 1</th>\n",
       "      <th>Fold 2</th>\n",
       "      <th>Fold 3</th>\n",
       "      <th>Fold 4</th>\n",
       "      <th>Fold 5</th>\n",
       "      <th>Mean score</th>\n",
       "    </tr>\n",
       "  </thead>\n",
       "  <tbody>\n",
       "    <tr>\n",
       "      <th>0</th>\n",
       "      <td>DecisionTree</td>\n",
       "      <td>&lt;py_entitymatching.matcher.dtmatcher.DTMatcher object at 0x112d55fd0&gt;</td>\n",
       "      <td>5</td>\n",
       "      <td>0.842105</td>\n",
       "      <td>0.933333</td>\n",
       "      <td>0.95</td>\n",
       "      <td>0.923077</td>\n",
       "      <td>1.000000</td>\n",
       "      <td>0.929703</td>\n",
       "    </tr>\n",
       "    <tr>\n",
       "      <th>1</th>\n",
       "      <td>RF</td>\n",
       "      <td>&lt;py_entitymatching.matcher.rfmatcher.RFMatcher object at 0x112472e10&gt;</td>\n",
       "      <td>5</td>\n",
       "      <td>0.842105</td>\n",
       "      <td>1.000000</td>\n",
       "      <td>0.95</td>\n",
       "      <td>1.000000</td>\n",
       "      <td>1.000000</td>\n",
       "      <td>0.958421</td>\n",
       "    </tr>\n",
       "    <tr>\n",
       "      <th>2</th>\n",
       "      <td>SVM</td>\n",
       "      <td>&lt;py_entitymatching.matcher.svmmatcher.SVMMatcher object at 0x112d55860&gt;</td>\n",
       "      <td>5</td>\n",
       "      <td>0.157895</td>\n",
       "      <td>0.266667</td>\n",
       "      <td>0.20</td>\n",
       "      <td>0.230769</td>\n",
       "      <td>0.266667</td>\n",
       "      <td>0.224399</td>\n",
       "    </tr>\n",
       "    <tr>\n",
       "      <th>3</th>\n",
       "      <td>LinReg</td>\n",
       "      <td>&lt;py_entitymatching.matcher.linregmatcher.LinRegMatcher object at 0x112472fd0&gt;</td>\n",
       "      <td>5</td>\n",
       "      <td>0.842105</td>\n",
       "      <td>1.000000</td>\n",
       "      <td>1.00</td>\n",
       "      <td>0.923077</td>\n",
       "      <td>1.000000</td>\n",
       "      <td>0.953036</td>\n",
       "    </tr>\n",
       "    <tr>\n",
       "      <th>4</th>\n",
       "      <td>LogReg</td>\n",
       "      <td>&lt;py_entitymatching.matcher.logregmatcher.LogRegMatcher object at 0x112d550f0&gt;</td>\n",
       "      <td>5</td>\n",
       "      <td>0.842105</td>\n",
       "      <td>1.000000</td>\n",
       "      <td>1.00</td>\n",
       "      <td>1.000000</td>\n",
       "      <td>1.000000</td>\n",
       "      <td>0.968421</td>\n",
       "    </tr>\n",
       "  </tbody>\n",
       "</table>\n",
       "</div>"
      ],
      "text/plain": [
       "           Name  \\\n",
       "0  DecisionTree   \n",
       "1            RF   \n",
       "2           SVM   \n",
       "3        LinReg   \n",
       "4        LogReg   \n",
       "\n",
       "                                                                         Matcher  \\\n",
       "0          <py_entitymatching.matcher.dtmatcher.DTMatcher object at 0x112d55fd0>   \n",
       "1          <py_entitymatching.matcher.rfmatcher.RFMatcher object at 0x112472e10>   \n",
       "2        <py_entitymatching.matcher.svmmatcher.SVMMatcher object at 0x112d55860>   \n",
       "3  <py_entitymatching.matcher.linregmatcher.LinRegMatcher object at 0x112472fd0>   \n",
       "4  <py_entitymatching.matcher.logregmatcher.LogRegMatcher object at 0x112d550f0>   \n",
       "\n",
       "   Num folds    Fold 1    Fold 2  Fold 3    Fold 4    Fold 5  Mean score  \n",
       "0          5  0.842105  0.933333    0.95  0.923077  1.000000    0.929703  \n",
       "1          5  0.842105  1.000000    0.95  1.000000  1.000000    0.958421  \n",
       "2          5  0.157895  0.266667    0.20  0.230769  0.266667    0.224399  \n",
       "3          5  0.842105  1.000000    1.00  0.923077  1.000000    0.953036  \n",
       "4          5  0.842105  1.000000    1.00  1.000000  1.000000    0.968421  "
      ]
     },
     "execution_count": 12,
     "metadata": {},
     "output_type": "execute_result"
    }
   ],
   "source": [
    "result['drill_down_cv_stats']['recall']\n"
   ]
  },
  {
   "cell_type": "code",
   "execution_count": 13,
   "metadata": {},
   "outputs": [
    {
     "data": {
      "text/html": [
       "<div>\n",
       "<style scoped>\n",
       "    .dataframe tbody tr th:only-of-type {\n",
       "        vertical-align: middle;\n",
       "    }\n",
       "\n",
       "    .dataframe tbody tr th {\n",
       "        vertical-align: top;\n",
       "    }\n",
       "\n",
       "    .dataframe thead th {\n",
       "        text-align: right;\n",
       "    }\n",
       "</style>\n",
       "<table border=\"1\" class=\"dataframe\">\n",
       "  <thead>\n",
       "    <tr style=\"text-align: right;\">\n",
       "      <th></th>\n",
       "      <th>Name</th>\n",
       "      <th>Matcher</th>\n",
       "      <th>Num folds</th>\n",
       "      <th>Fold 1</th>\n",
       "      <th>Fold 2</th>\n",
       "      <th>Fold 3</th>\n",
       "      <th>Fold 4</th>\n",
       "      <th>Fold 5</th>\n",
       "      <th>Mean score</th>\n",
       "    </tr>\n",
       "  </thead>\n",
       "  <tbody>\n",
       "    <tr>\n",
       "      <th>0</th>\n",
       "      <td>DecisionTree</td>\n",
       "      <td>&lt;py_entitymatching.matcher.dtmatcher.DTMatcher object at 0x112d55fd0&gt;</td>\n",
       "      <td>5</td>\n",
       "      <td>0.914286</td>\n",
       "      <td>0.933333</td>\n",
       "      <td>0.974359</td>\n",
       "      <td>0.888889</td>\n",
       "      <td>0.937500</td>\n",
       "      <td>0.929673</td>\n",
       "    </tr>\n",
       "    <tr>\n",
       "      <th>1</th>\n",
       "      <td>RF</td>\n",
       "      <td>&lt;py_entitymatching.matcher.rfmatcher.RFMatcher object at 0x112472e10&gt;</td>\n",
       "      <td>5</td>\n",
       "      <td>0.914286</td>\n",
       "      <td>1.000000</td>\n",
       "      <td>0.974359</td>\n",
       "      <td>0.962963</td>\n",
       "      <td>1.000000</td>\n",
       "      <td>0.970322</td>\n",
       "    </tr>\n",
       "    <tr>\n",
       "      <th>2</th>\n",
       "      <td>SVM</td>\n",
       "      <td>&lt;py_entitymatching.matcher.svmmatcher.SVMMatcher object at 0x112d55860&gt;</td>\n",
       "      <td>5</td>\n",
       "      <td>0.272727</td>\n",
       "      <td>0.421053</td>\n",
       "      <td>0.333333</td>\n",
       "      <td>0.375000</td>\n",
       "      <td>0.421053</td>\n",
       "      <td>0.364633</td>\n",
       "    </tr>\n",
       "    <tr>\n",
       "      <th>3</th>\n",
       "      <td>LinReg</td>\n",
       "      <td>&lt;py_entitymatching.matcher.linregmatcher.LinRegMatcher object at 0x112472fd0&gt;</td>\n",
       "      <td>5</td>\n",
       "      <td>0.914286</td>\n",
       "      <td>0.967742</td>\n",
       "      <td>1.000000</td>\n",
       "      <td>0.923077</td>\n",
       "      <td>1.000000</td>\n",
       "      <td>0.961021</td>\n",
       "    </tr>\n",
       "    <tr>\n",
       "      <th>4</th>\n",
       "      <td>LogReg</td>\n",
       "      <td>&lt;py_entitymatching.matcher.logregmatcher.LogRegMatcher object at 0x112d550f0&gt;</td>\n",
       "      <td>5</td>\n",
       "      <td>0.914286</td>\n",
       "      <td>0.967742</td>\n",
       "      <td>1.000000</td>\n",
       "      <td>0.962963</td>\n",
       "      <td>1.000000</td>\n",
       "      <td>0.968998</td>\n",
       "    </tr>\n",
       "  </tbody>\n",
       "</table>\n",
       "</div>"
      ],
      "text/plain": [
       "           Name  \\\n",
       "0  DecisionTree   \n",
       "1            RF   \n",
       "2           SVM   \n",
       "3        LinReg   \n",
       "4        LogReg   \n",
       "\n",
       "                                                                         Matcher  \\\n",
       "0          <py_entitymatching.matcher.dtmatcher.DTMatcher object at 0x112d55fd0>   \n",
       "1          <py_entitymatching.matcher.rfmatcher.RFMatcher object at 0x112472e10>   \n",
       "2        <py_entitymatching.matcher.svmmatcher.SVMMatcher object at 0x112d55860>   \n",
       "3  <py_entitymatching.matcher.linregmatcher.LinRegMatcher object at 0x112472fd0>   \n",
       "4  <py_entitymatching.matcher.logregmatcher.LogRegMatcher object at 0x112d550f0>   \n",
       "\n",
       "   Num folds    Fold 1    Fold 2    Fold 3    Fold 4    Fold 5  Mean score  \n",
       "0          5  0.914286  0.933333  0.974359  0.888889  0.937500    0.929673  \n",
       "1          5  0.914286  1.000000  0.974359  0.962963  1.000000    0.970322  \n",
       "2          5  0.272727  0.421053  0.333333  0.375000  0.421053    0.364633  \n",
       "3          5  0.914286  0.967742  1.000000  0.923077  1.000000    0.961021  \n",
       "4          5  0.914286  0.967742  1.000000  0.962963  1.000000    0.968998  "
      ]
     },
     "execution_count": 13,
     "metadata": {},
     "output_type": "execute_result"
    }
   ],
   "source": [
    "result['drill_down_cv_stats']['f1']\n"
   ]
  },
  {
   "cell_type": "markdown",
   "metadata": {},
   "source": [
    "# Debug RF"
   ]
  },
  {
   "cell_type": "code",
   "execution_count": 14,
   "metadata": {
    "collapsed": true
   },
   "outputs": [],
   "source": [
    "# Split H into P and Q\n",
    "PQ = em.split_train_test(H, train_proportion=0.5, random_state=random_state)\n",
    "P = PQ['train']\n",
    "Q = PQ['test']"
   ]
  },
  {
   "cell_type": "code",
   "execution_count": 15,
   "metadata": {
    "collapsed": true
   },
   "outputs": [],
   "source": [
    "# Debug RF matcher using GUI\n",
    "em.vis_debug_rf(rf, P, Q, \n",
    "        exclude_attrs=['_id', 'ltable_ID', 'rtable_ID', 'label'],\n",
    "        target_attr='label')"
   ]
  },
  {
   "cell_type": "code",
   "execution_count": 16,
   "metadata": {},
   "outputs": [],
   "source": [
    "# print different similarity functions you can use\n",
    "#em.get_sim_funs_for_blocking()"
   ]
  },
  {
   "cell_type": "markdown",
   "metadata": {
    "collapsed": true
   },
   "source": [
    "# Notes on debug:\n",
    "- All false negative examples have \"Album_Album_jac_dlm_dc0_dlm_dc0\" score <= threshold\n",
    "- We will exclude this feature and see if this improves score"
   ]
  },
  {
   "cell_type": "code",
   "execution_count": 29,
   "metadata": {
    "collapsed": true
   },
   "outputs": [],
   "source": [
    "# Convert I into feature vectors using updated F\n",
    "H = em.extract_feature_vecs(I, \n",
    "                            feature_table=F, \n",
    "                            attrs_after='label',\n",
    "                            show_progress=False)"
   ]
  },
  {
   "cell_type": "code",
   "execution_count": 30,
   "metadata": {
    "collapsed": true
   },
   "outputs": [],
   "source": [
    "# Impute feature vectors with the mean of the column values.\n",
    "H = em.impute_table(H, \n",
    "                exclude_attrs=['_id', 'ltable_ID', 'rtable_ID', 'label'],\n",
    "                strategy='mean')\n"
   ]
  },
  {
   "cell_type": "code",
   "execution_count": 31,
   "metadata": {},
   "outputs": [
    {
     "data": {
      "text/html": [
       "<div>\n",
       "<style scoped>\n",
       "    .dataframe tbody tr th:only-of-type {\n",
       "        vertical-align: middle;\n",
       "    }\n",
       "\n",
       "    .dataframe tbody tr th {\n",
       "        vertical-align: top;\n",
       "    }\n",
       "\n",
       "    .dataframe thead th {\n",
       "        text-align: right;\n",
       "    }\n",
       "</style>\n",
       "<table border=\"1\" class=\"dataframe\">\n",
       "  <thead>\n",
       "    <tr style=\"text-align: right;\">\n",
       "      <th></th>\n",
       "      <th>Name</th>\n",
       "      <th>Matcher</th>\n",
       "      <th>Num folds</th>\n",
       "      <th>Fold 1</th>\n",
       "      <th>Fold 2</th>\n",
       "      <th>Fold 3</th>\n",
       "      <th>Fold 4</th>\n",
       "      <th>Fold 5</th>\n",
       "      <th>Mean score</th>\n",
       "    </tr>\n",
       "  </thead>\n",
       "  <tbody>\n",
       "    <tr>\n",
       "      <th>0</th>\n",
       "      <td>RandomForest</td>\n",
       "      <td>&lt;py_entitymatching.matcher.rfmatcher.RFMatcher object at 0x112d6f208&gt;</td>\n",
       "      <td>5</td>\n",
       "      <td>0.914286</td>\n",
       "      <td>1.0</td>\n",
       "      <td>0.974359</td>\n",
       "      <td>0.962963</td>\n",
       "      <td>1.0</td>\n",
       "      <td>0.970322</td>\n",
       "    </tr>\n",
       "  </tbody>\n",
       "</table>\n",
       "</div>"
      ],
      "text/plain": [
       "           Name  \\\n",
       "0  RandomForest   \n",
       "\n",
       "                                                                 Matcher  \\\n",
       "0  <py_entitymatching.matcher.rfmatcher.RFMatcher object at 0x112d6f208>   \n",
       "\n",
       "   Num folds    Fold 1  Fold 2    Fold 3    Fold 4  Fold 5  Mean score  \n",
       "0          5  0.914286     1.0  0.974359  0.962963     1.0    0.970322  "
      ]
     },
     "execution_count": 31,
     "metadata": {},
     "output_type": "execute_result"
    }
   ],
   "source": [
    "# Check whether the updated F improves RF\n",
    "result = em.select_matcher([rf], table=H, \n",
    "        exclude_attrs=['_id', 'ltable_ID', 'rtable_ID', 'label'],\n",
    "        k=5,\n",
    "        target_attr='label', metric_to_select_matcher='f1', random_state=0)\n",
    "result['drill_down_cv_stats']['f1']"
   ]
  },
  {
   "cell_type": "code",
   "execution_count": 32,
   "metadata": {},
   "outputs": [
    {
     "data": {
      "text/html": [
       "<div>\n",
       "<style scoped>\n",
       "    .dataframe tbody tr th:only-of-type {\n",
       "        vertical-align: middle;\n",
       "    }\n",
       "\n",
       "    .dataframe tbody tr th {\n",
       "        vertical-align: top;\n",
       "    }\n",
       "\n",
       "    .dataframe thead th {\n",
       "        text-align: right;\n",
       "    }\n",
       "</style>\n",
       "<table border=\"1\" class=\"dataframe\">\n",
       "  <thead>\n",
       "    <tr style=\"text-align: right;\">\n",
       "      <th></th>\n",
       "      <th>Matcher</th>\n",
       "      <th>Average precision</th>\n",
       "      <th>Average recall</th>\n",
       "      <th>Average f1</th>\n",
       "    </tr>\n",
       "  </thead>\n",
       "  <tbody>\n",
       "    <tr>\n",
       "      <th>0</th>\n",
       "      <td>RandomForest</td>\n",
       "      <td>0.985714</td>\n",
       "      <td>0.958421</td>\n",
       "      <td>0.970322</td>\n",
       "    </tr>\n",
       "  </tbody>\n",
       "</table>\n",
       "</div>"
      ],
      "text/plain": [
       "        Matcher  Average precision  Average recall  Average f1\n",
       "0  RandomForest           0.985714        0.958421    0.970322"
      ]
     },
     "execution_count": 32,
     "metadata": {},
     "output_type": "execute_result"
    }
   ],
   "source": [
    "result['cv_stats']"
   ]
  },
  {
   "cell_type": "code",
   "execution_count": 33,
   "metadata": {},
   "outputs": [
    {
     "data": {
      "text/html": [
       "<div>\n",
       "<style scoped>\n",
       "    .dataframe tbody tr th:only-of-type {\n",
       "        vertical-align: middle;\n",
       "    }\n",
       "\n",
       "    .dataframe tbody tr th {\n",
       "        vertical-align: top;\n",
       "    }\n",
       "\n",
       "    .dataframe thead th {\n",
       "        text-align: right;\n",
       "    }\n",
       "</style>\n",
       "<table border=\"1\" class=\"dataframe\">\n",
       "  <thead>\n",
       "    <tr style=\"text-align: right;\">\n",
       "      <th></th>\n",
       "      <th>Matcher</th>\n",
       "      <th>Average precision</th>\n",
       "      <th>Average recall</th>\n",
       "      <th>Average f1</th>\n",
       "    </tr>\n",
       "  </thead>\n",
       "  <tbody>\n",
       "    <tr>\n",
       "      <th>0</th>\n",
       "      <td>DecisionTree</td>\n",
       "      <td>0.934566</td>\n",
       "      <td>0.929703</td>\n",
       "      <td>0.929673</td>\n",
       "    </tr>\n",
       "    <tr>\n",
       "      <th>1</th>\n",
       "      <td>RandomForest</td>\n",
       "      <td>0.985714</td>\n",
       "      <td>0.958421</td>\n",
       "      <td>0.970322</td>\n",
       "    </tr>\n",
       "    <tr>\n",
       "      <th>2</th>\n",
       "      <td>SVM</td>\n",
       "      <td>1.000000</td>\n",
       "      <td>0.224399</td>\n",
       "      <td>0.364633</td>\n",
       "    </tr>\n",
       "    <tr>\n",
       "      <th>3</th>\n",
       "      <td>LinReg</td>\n",
       "      <td>0.972115</td>\n",
       "      <td>0.953036</td>\n",
       "      <td>0.961021</td>\n",
       "    </tr>\n",
       "    <tr>\n",
       "      <th>4</th>\n",
       "      <td>LogReg</td>\n",
       "      <td>0.973214</td>\n",
       "      <td>0.968421</td>\n",
       "      <td>0.968998</td>\n",
       "    </tr>\n",
       "  </tbody>\n",
       "</table>\n",
       "</div>"
      ],
      "text/plain": [
       "        Matcher  Average precision  Average recall  Average f1\n",
       "0  DecisionTree           0.934566        0.929703    0.929673\n",
       "1  RandomForest           0.985714        0.958421    0.970322\n",
       "2           SVM           1.000000        0.224399    0.364633\n",
       "3        LinReg           0.972115        0.953036    0.961021\n",
       "4        LogReg           0.973214        0.968421    0.968998"
      ]
     },
     "execution_count": 33,
     "metadata": {},
     "output_type": "execute_result"
    }
   ],
   "source": [
    "# Select the best matcher again using CV\n",
    "result = em.select_matcher([dt, rf, svm, ln, lg], table=H, \n",
    "        exclude_attrs=['_id', 'ltable_ID', 'rtable_ID', 'label'],\n",
    "        k=5,\n",
    "        target_attr='label', metric_to_select_matcher='f1', random_state=0)\n",
    "result['cv_stats']"
   ]
  },
  {
   "cell_type": "markdown",
   "metadata": {},
   "source": [
    "- best matcher seems to be linear regression (in terms of f1 score)"
   ]
  },
  {
   "cell_type": "code",
   "execution_count": 34,
   "metadata": {},
   "outputs": [
    {
     "data": {
      "text/html": [
       "<div>\n",
       "<style scoped>\n",
       "    .dataframe tbody tr th:only-of-type {\n",
       "        vertical-align: middle;\n",
       "    }\n",
       "\n",
       "    .dataframe tbody tr th {\n",
       "        vertical-align: top;\n",
       "    }\n",
       "\n",
       "    .dataframe thead th {\n",
       "        text-align: right;\n",
       "    }\n",
       "</style>\n",
       "<table border=\"1\" class=\"dataframe\">\n",
       "  <thead>\n",
       "    <tr style=\"text-align: right;\">\n",
       "      <th></th>\n",
       "      <th>Name</th>\n",
       "      <th>Matcher</th>\n",
       "      <th>Num folds</th>\n",
       "      <th>Fold 1</th>\n",
       "      <th>Fold 2</th>\n",
       "      <th>Fold 3</th>\n",
       "      <th>Fold 4</th>\n",
       "      <th>Fold 5</th>\n",
       "      <th>Mean score</th>\n",
       "    </tr>\n",
       "  </thead>\n",
       "  <tbody>\n",
       "    <tr>\n",
       "      <th>0</th>\n",
       "      <td>DecisionTree</td>\n",
       "      <td>&lt;py_entitymatching.matcher.dtmatcher.DTMatcher object at 0x112d55fd0&gt;</td>\n",
       "      <td>5</td>\n",
       "      <td>0.914286</td>\n",
       "      <td>0.933333</td>\n",
       "      <td>0.974359</td>\n",
       "      <td>0.888889</td>\n",
       "      <td>0.937500</td>\n",
       "      <td>0.929673</td>\n",
       "    </tr>\n",
       "    <tr>\n",
       "      <th>1</th>\n",
       "      <td>RandomForest</td>\n",
       "      <td>&lt;py_entitymatching.matcher.rfmatcher.RFMatcher object at 0x112d6f208&gt;</td>\n",
       "      <td>5</td>\n",
       "      <td>0.914286</td>\n",
       "      <td>1.000000</td>\n",
       "      <td>0.974359</td>\n",
       "      <td>0.962963</td>\n",
       "      <td>1.000000</td>\n",
       "      <td>0.970322</td>\n",
       "    </tr>\n",
       "    <tr>\n",
       "      <th>2</th>\n",
       "      <td>SVM</td>\n",
       "      <td>&lt;py_entitymatching.matcher.svmmatcher.SVMMatcher object at 0x112d55860&gt;</td>\n",
       "      <td>5</td>\n",
       "      <td>0.272727</td>\n",
       "      <td>0.421053</td>\n",
       "      <td>0.333333</td>\n",
       "      <td>0.375000</td>\n",
       "      <td>0.421053</td>\n",
       "      <td>0.364633</td>\n",
       "    </tr>\n",
       "    <tr>\n",
       "      <th>3</th>\n",
       "      <td>LinReg</td>\n",
       "      <td>&lt;py_entitymatching.matcher.linregmatcher.LinRegMatcher object at 0x112472fd0&gt;</td>\n",
       "      <td>5</td>\n",
       "      <td>0.914286</td>\n",
       "      <td>0.967742</td>\n",
       "      <td>1.000000</td>\n",
       "      <td>0.923077</td>\n",
       "      <td>1.000000</td>\n",
       "      <td>0.961021</td>\n",
       "    </tr>\n",
       "    <tr>\n",
       "      <th>4</th>\n",
       "      <td>LogReg</td>\n",
       "      <td>&lt;py_entitymatching.matcher.logregmatcher.LogRegMatcher object at 0x112d550f0&gt;</td>\n",
       "      <td>5</td>\n",
       "      <td>0.914286</td>\n",
       "      <td>0.967742</td>\n",
       "      <td>1.000000</td>\n",
       "      <td>0.962963</td>\n",
       "      <td>1.000000</td>\n",
       "      <td>0.968998</td>\n",
       "    </tr>\n",
       "  </tbody>\n",
       "</table>\n",
       "</div>"
      ],
      "text/plain": [
       "           Name  \\\n",
       "0  DecisionTree   \n",
       "1  RandomForest   \n",
       "2           SVM   \n",
       "3        LinReg   \n",
       "4        LogReg   \n",
       "\n",
       "                                                                         Matcher  \\\n",
       "0          <py_entitymatching.matcher.dtmatcher.DTMatcher object at 0x112d55fd0>   \n",
       "1          <py_entitymatching.matcher.rfmatcher.RFMatcher object at 0x112d6f208>   \n",
       "2        <py_entitymatching.matcher.svmmatcher.SVMMatcher object at 0x112d55860>   \n",
       "3  <py_entitymatching.matcher.linregmatcher.LinRegMatcher object at 0x112472fd0>   \n",
       "4  <py_entitymatching.matcher.logregmatcher.LogRegMatcher object at 0x112d550f0>   \n",
       "\n",
       "   Num folds    Fold 1    Fold 2    Fold 3    Fold 4    Fold 5  Mean score  \n",
       "0          5  0.914286  0.933333  0.974359  0.888889  0.937500    0.929673  \n",
       "1          5  0.914286  1.000000  0.974359  0.962963  1.000000    0.970322  \n",
       "2          5  0.272727  0.421053  0.333333  0.375000  0.421053    0.364633  \n",
       "3          5  0.914286  0.967742  1.000000  0.923077  1.000000    0.961021  \n",
       "4          5  0.914286  0.967742  1.000000  0.962963  1.000000    0.968998  "
      ]
     },
     "execution_count": 34,
     "metadata": {},
     "output_type": "execute_result"
    }
   ],
   "source": [
    "result['drill_down_cv_stats']['f1']"
   ]
  },
  {
   "cell_type": "code",
   "execution_count": 35,
   "metadata": {},
   "outputs": [
    {
     "data": {
      "text/html": [
       "<div>\n",
       "<style scoped>\n",
       "    .dataframe tbody tr th:only-of-type {\n",
       "        vertical-align: middle;\n",
       "    }\n",
       "\n",
       "    .dataframe tbody tr th {\n",
       "        vertical-align: top;\n",
       "    }\n",
       "\n",
       "    .dataframe thead th {\n",
       "        text-align: right;\n",
       "    }\n",
       "</style>\n",
       "<table border=\"1\" class=\"dataframe\">\n",
       "  <thead>\n",
       "    <tr style=\"text-align: right;\">\n",
       "      <th></th>\n",
       "      <th>Name</th>\n",
       "      <th>Matcher</th>\n",
       "      <th>Num folds</th>\n",
       "      <th>Fold 1</th>\n",
       "      <th>Fold 2</th>\n",
       "      <th>Fold 3</th>\n",
       "      <th>Fold 4</th>\n",
       "      <th>Fold 5</th>\n",
       "      <th>Mean score</th>\n",
       "    </tr>\n",
       "  </thead>\n",
       "  <tbody>\n",
       "    <tr>\n",
       "      <th>0</th>\n",
       "      <td>DecisionTree</td>\n",
       "      <td>&lt;py_entitymatching.matcher.dtmatcher.DTMatcher object at 0x112d55fd0&gt;</td>\n",
       "      <td>5</td>\n",
       "      <td>1.0</td>\n",
       "      <td>0.933333</td>\n",
       "      <td>1.0</td>\n",
       "      <td>0.857143</td>\n",
       "      <td>0.882353</td>\n",
       "      <td>0.934566</td>\n",
       "    </tr>\n",
       "    <tr>\n",
       "      <th>1</th>\n",
       "      <td>RandomForest</td>\n",
       "      <td>&lt;py_entitymatching.matcher.rfmatcher.RFMatcher object at 0x112d6f208&gt;</td>\n",
       "      <td>5</td>\n",
       "      <td>1.0</td>\n",
       "      <td>1.000000</td>\n",
       "      <td>1.0</td>\n",
       "      <td>0.928571</td>\n",
       "      <td>1.000000</td>\n",
       "      <td>0.985714</td>\n",
       "    </tr>\n",
       "    <tr>\n",
       "      <th>2</th>\n",
       "      <td>SVM</td>\n",
       "      <td>&lt;py_entitymatching.matcher.svmmatcher.SVMMatcher object at 0x112d55860&gt;</td>\n",
       "      <td>5</td>\n",
       "      <td>1.0</td>\n",
       "      <td>1.000000</td>\n",
       "      <td>1.0</td>\n",
       "      <td>1.000000</td>\n",
       "      <td>1.000000</td>\n",
       "      <td>1.000000</td>\n",
       "    </tr>\n",
       "    <tr>\n",
       "      <th>3</th>\n",
       "      <td>LinReg</td>\n",
       "      <td>&lt;py_entitymatching.matcher.linregmatcher.LinRegMatcher object at 0x112472fd0&gt;</td>\n",
       "      <td>5</td>\n",
       "      <td>1.0</td>\n",
       "      <td>0.937500</td>\n",
       "      <td>1.0</td>\n",
       "      <td>0.923077</td>\n",
       "      <td>1.000000</td>\n",
       "      <td>0.972115</td>\n",
       "    </tr>\n",
       "    <tr>\n",
       "      <th>4</th>\n",
       "      <td>LogReg</td>\n",
       "      <td>&lt;py_entitymatching.matcher.logregmatcher.LogRegMatcher object at 0x112d550f0&gt;</td>\n",
       "      <td>5</td>\n",
       "      <td>1.0</td>\n",
       "      <td>0.937500</td>\n",
       "      <td>1.0</td>\n",
       "      <td>0.928571</td>\n",
       "      <td>1.000000</td>\n",
       "      <td>0.973214</td>\n",
       "    </tr>\n",
       "  </tbody>\n",
       "</table>\n",
       "</div>"
      ],
      "text/plain": [
       "           Name  \\\n",
       "0  DecisionTree   \n",
       "1  RandomForest   \n",
       "2           SVM   \n",
       "3        LinReg   \n",
       "4        LogReg   \n",
       "\n",
       "                                                                         Matcher  \\\n",
       "0          <py_entitymatching.matcher.dtmatcher.DTMatcher object at 0x112d55fd0>   \n",
       "1          <py_entitymatching.matcher.rfmatcher.RFMatcher object at 0x112d6f208>   \n",
       "2        <py_entitymatching.matcher.svmmatcher.SVMMatcher object at 0x112d55860>   \n",
       "3  <py_entitymatching.matcher.linregmatcher.LinRegMatcher object at 0x112472fd0>   \n",
       "4  <py_entitymatching.matcher.logregmatcher.LogRegMatcher object at 0x112d550f0>   \n",
       "\n",
       "   Num folds  Fold 1    Fold 2  Fold 3    Fold 4    Fold 5  Mean score  \n",
       "0          5     1.0  0.933333     1.0  0.857143  0.882353    0.934566  \n",
       "1          5     1.0  1.000000     1.0  0.928571  1.000000    0.985714  \n",
       "2          5     1.0  1.000000     1.0  1.000000  1.000000    1.000000  \n",
       "3          5     1.0  0.937500     1.0  0.923077  1.000000    0.972115  \n",
       "4          5     1.0  0.937500     1.0  0.928571  1.000000    0.973214  "
      ]
     },
     "execution_count": 35,
     "metadata": {},
     "output_type": "execute_result"
    }
   ],
   "source": [
    "result['drill_down_cv_stats']['precision']"
   ]
  },
  {
   "cell_type": "code",
   "execution_count": 36,
   "metadata": {},
   "outputs": [
    {
     "data": {
      "text/html": [
       "<div>\n",
       "<style scoped>\n",
       "    .dataframe tbody tr th:only-of-type {\n",
       "        vertical-align: middle;\n",
       "    }\n",
       "\n",
       "    .dataframe tbody tr th {\n",
       "        vertical-align: top;\n",
       "    }\n",
       "\n",
       "    .dataframe thead th {\n",
       "        text-align: right;\n",
       "    }\n",
       "</style>\n",
       "<table border=\"1\" class=\"dataframe\">\n",
       "  <thead>\n",
       "    <tr style=\"text-align: right;\">\n",
       "      <th></th>\n",
       "      <th>Name</th>\n",
       "      <th>Matcher</th>\n",
       "      <th>Num folds</th>\n",
       "      <th>Fold 1</th>\n",
       "      <th>Fold 2</th>\n",
       "      <th>Fold 3</th>\n",
       "      <th>Fold 4</th>\n",
       "      <th>Fold 5</th>\n",
       "      <th>Mean score</th>\n",
       "    </tr>\n",
       "  </thead>\n",
       "  <tbody>\n",
       "    <tr>\n",
       "      <th>0</th>\n",
       "      <td>DecisionTree</td>\n",
       "      <td>&lt;py_entitymatching.matcher.dtmatcher.DTMatcher object at 0x112d55fd0&gt;</td>\n",
       "      <td>5</td>\n",
       "      <td>0.842105</td>\n",
       "      <td>0.933333</td>\n",
       "      <td>0.95</td>\n",
       "      <td>0.923077</td>\n",
       "      <td>1.000000</td>\n",
       "      <td>0.929703</td>\n",
       "    </tr>\n",
       "    <tr>\n",
       "      <th>1</th>\n",
       "      <td>RandomForest</td>\n",
       "      <td>&lt;py_entitymatching.matcher.rfmatcher.RFMatcher object at 0x112d6f208&gt;</td>\n",
       "      <td>5</td>\n",
       "      <td>0.842105</td>\n",
       "      <td>1.000000</td>\n",
       "      <td>0.95</td>\n",
       "      <td>1.000000</td>\n",
       "      <td>1.000000</td>\n",
       "      <td>0.958421</td>\n",
       "    </tr>\n",
       "    <tr>\n",
       "      <th>2</th>\n",
       "      <td>SVM</td>\n",
       "      <td>&lt;py_entitymatching.matcher.svmmatcher.SVMMatcher object at 0x112d55860&gt;</td>\n",
       "      <td>5</td>\n",
       "      <td>0.157895</td>\n",
       "      <td>0.266667</td>\n",
       "      <td>0.20</td>\n",
       "      <td>0.230769</td>\n",
       "      <td>0.266667</td>\n",
       "      <td>0.224399</td>\n",
       "    </tr>\n",
       "    <tr>\n",
       "      <th>3</th>\n",
       "      <td>LinReg</td>\n",
       "      <td>&lt;py_entitymatching.matcher.linregmatcher.LinRegMatcher object at 0x112472fd0&gt;</td>\n",
       "      <td>5</td>\n",
       "      <td>0.842105</td>\n",
       "      <td>1.000000</td>\n",
       "      <td>1.00</td>\n",
       "      <td>0.923077</td>\n",
       "      <td>1.000000</td>\n",
       "      <td>0.953036</td>\n",
       "    </tr>\n",
       "    <tr>\n",
       "      <th>4</th>\n",
       "      <td>LogReg</td>\n",
       "      <td>&lt;py_entitymatching.matcher.logregmatcher.LogRegMatcher object at 0x112d550f0&gt;</td>\n",
       "      <td>5</td>\n",
       "      <td>0.842105</td>\n",
       "      <td>1.000000</td>\n",
       "      <td>1.00</td>\n",
       "      <td>1.000000</td>\n",
       "      <td>1.000000</td>\n",
       "      <td>0.968421</td>\n",
       "    </tr>\n",
       "  </tbody>\n",
       "</table>\n",
       "</div>"
      ],
      "text/plain": [
       "           Name  \\\n",
       "0  DecisionTree   \n",
       "1  RandomForest   \n",
       "2           SVM   \n",
       "3        LinReg   \n",
       "4        LogReg   \n",
       "\n",
       "                                                                         Matcher  \\\n",
       "0          <py_entitymatching.matcher.dtmatcher.DTMatcher object at 0x112d55fd0>   \n",
       "1          <py_entitymatching.matcher.rfmatcher.RFMatcher object at 0x112d6f208>   \n",
       "2        <py_entitymatching.matcher.svmmatcher.SVMMatcher object at 0x112d55860>   \n",
       "3  <py_entitymatching.matcher.linregmatcher.LinRegMatcher object at 0x112472fd0>   \n",
       "4  <py_entitymatching.matcher.logregmatcher.LogRegMatcher object at 0x112d550f0>   \n",
       "\n",
       "   Num folds    Fold 1    Fold 2  Fold 3    Fold 4    Fold 5  Mean score  \n",
       "0          5  0.842105  0.933333    0.95  0.923077  1.000000    0.929703  \n",
       "1          5  0.842105  1.000000    0.95  1.000000  1.000000    0.958421  \n",
       "2          5  0.157895  0.266667    0.20  0.230769  0.266667    0.224399  \n",
       "3          5  0.842105  1.000000    1.00  0.923077  1.000000    0.953036  \n",
       "4          5  0.842105  1.000000    1.00  1.000000  1.000000    0.968421  "
      ]
     },
     "execution_count": 36,
     "metadata": {},
     "output_type": "execute_result"
    }
   ],
   "source": [
    "result['drill_down_cv_stats']['recall']"
   ]
  },
  {
   "cell_type": "markdown",
   "metadata": {},
   "source": [
    "# Compute accuracy of RF on J"
   ]
  },
  {
   "cell_type": "code",
   "execution_count": 46,
   "metadata": {},
   "outputs": [],
   "source": [
    "# Instantiate the matcher to evaluate.\n",
    "lr = em.LinRegMatcher(name='LinearRegression')\n",
    "logr = em.LogRegMatcher(name = 'LogisticRegression', random_state = random_state)\n",
    "svm = em.SVMMatcher(name = 'SVM', random_state = random_state)\n",
    "rf = em.RFMatcher(name = 'RandomForest', random_state = random_state)\n",
    "dt = em.DTMatcher(name = 'DecisionTree', random_state = random_state)\n",
    "nb = em.NBMatcher(name = 'NaiveBayes')\n"
   ]
  },
  {
   "cell_type": "code",
   "execution_count": 47,
   "metadata": {},
   "outputs": [],
   "source": [
    "classifiers = np.array([lr, logr, svm, rf, dt, nb])"
   ]
  },
  {
   "cell_type": "code",
   "execution_count": 48,
   "metadata": {},
   "outputs": [
    {
     "data": {
      "text/plain": [
       "array([<py_entitymatching.matcher.linregmatcher.LinRegMatcher object at 0x11dd2dbe0>,\n",
       "       <py_entitymatching.matcher.logregmatcher.LogRegMatcher object at 0x11dd2dd68>,\n",
       "       <py_entitymatching.matcher.svmmatcher.SVMMatcher object at 0x11dd2db38>,\n",
       "       <py_entitymatching.matcher.rfmatcher.RFMatcher object at 0x11dd2da58>,\n",
       "       <py_entitymatching.matcher.dtmatcher.DTMatcher object at 0x11dd2dd30>,\n",
       "       <py_entitymatching.matcher.nbmatcher.NBMatcher object at 0x11dd2d8d0>],\n",
       "      dtype=object)"
      ]
     },
     "execution_count": 48,
     "metadata": {},
     "output_type": "execute_result"
    }
   ],
   "source": [
    "classifiers"
   ]
  },
  {
   "cell_type": "code",
   "execution_count": 50,
   "metadata": {},
   "outputs": [
    {
     "name": "stdout",
     "output_type": "stream",
     "text": [
      "LinearRegression\n",
      "Precision : 96.3% (78/81)\n",
      "Recall : 95.12% (78/82)\n",
      "F1 : 95.71%\n",
      "False positives : 3 (out of 81 positive predictions)\n",
      "False negatives : 4 (out of 169 negative predictions)\n",
      "\n",
      "LogisticRegression\n",
      "Precision : 96.25% (77/80)\n",
      "Recall : 93.9% (77/82)\n",
      "F1 : 95.06%\n",
      "False positives : 3 (out of 80 positive predictions)\n",
      "False negatives : 5 (out of 170 negative predictions)\n",
      "\n",
      "SVM\n",
      "Precision : 94.74% (18/19)\n",
      "Recall : 21.95% (18/82)\n",
      "F1 : 35.64%\n",
      "False positives : 1 (out of 19 positive predictions)\n",
      "False negatives : 64 (out of 231 negative predictions)\n",
      "\n",
      "RandomForest\n",
      "Precision : 95.89% (70/73)\n",
      "Recall : 85.37% (70/82)\n",
      "F1 : 90.32%\n",
      "False positives : 3 (out of 73 positive predictions)\n",
      "False negatives : 12 (out of 177 negative predictions)\n",
      "\n",
      "DecisionTree\n",
      "Precision : 86.05% (74/86)\n",
      "Recall : 90.24% (74/82)\n",
      "F1 : 88.1%\n",
      "False positives : 12 (out of 86 positive predictions)\n",
      "False negatives : 8 (out of 164 negative predictions)\n",
      "\n",
      "NaiveBayes\n",
      "Precision : 96.1% (74/77)\n",
      "Recall : 90.24% (74/82)\n",
      "F1 : 93.08%\n",
      "False positives : 3 (out of 77 positive predictions)\n",
      "False negatives : 8 (out of 173 negative predictions)\n",
      "\n"
     ]
    }
   ],
   "source": [
    "# Convert J into a set of feature vectors using F\n",
    "L = em.extract_feature_vecs(J, feature_table=F,\n",
    "                            attrs_after='label', show_progress=False)\n",
    "\n",
    "# Impute feature vectors with the mean of the column values\n",
    "L = em.impute_table(L, \n",
    "                exclude_attrs=['_id', 'ltable_ID', 'rtable_ID', 'label'],\n",
    "                strategy='mean')\n",
    "\n",
    "for c in classifiers:\n",
    "    # Train using feature vectors from I \n",
    "    c.fit(table=H, exclude_attrs=['_id', 'ltable_ID', 'rtable_ID', 'label'], target_attr='label')\n",
    "    \n",
    "    # Predict on L \n",
    "    predictions = c.predict(table=L, exclude_attrs=['_id', 'ltable_ID', 'rtable_ID', 'label'], \n",
    "                             append=True, target_attr='predicted', inplace=False)\n",
    "    \n",
    "    predictions[['_id', 'ltable_ID', 'rtable_ID', 'predicted','label']].head()\n",
    "\n",
    "    # Evaluate the predictions\n",
    "    print(c.name)\n",
    "    eval_result = em.eval_matches(predictions, 'label', 'predicted')\n",
    "    em.print_eval_summary(eval_result)\n",
    "    print()"
   ]
  },
  {
   "cell_type": "code",
   "execution_count": null,
   "metadata": {
    "collapsed": true
   },
   "outputs": [],
   "source": []
  }
 ],
 "metadata": {
  "kernelspec": {
   "display_name": "Python 3",
   "language": "python",
   "name": "python3"
  },
  "language_info": {
   "codemirror_mode": {
    "name": "ipython",
    "version": 3
   },
   "file_extension": ".py",
   "mimetype": "text/x-python",
   "name": "python",
   "nbconvert_exporter": "python",
   "pygments_lexer": "ipython3",
   "version": "3.6.3"
  }
 },
 "nbformat": 4,
 "nbformat_minor": 2
}
