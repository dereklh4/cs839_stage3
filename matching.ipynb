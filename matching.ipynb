{
 "cells": [
  {
   "cell_type": "code",
   "execution_count": 11,
   "metadata": {},
   "outputs": [],
   "source": [
    "# Import py_entitymatching package\n",
    "import py_entitymatching as em\n",
    "import os\n",
    "import pandas as pd\n",
    "import numpy as np"
   ]
  },
  {
   "cell_type": "code",
   "execution_count": 20,
   "metadata": {},
   "outputs": [
    {
     "data": {
      "text/plain": [
       "True"
      ]
     },
     "execution_count": 20,
     "metadata": {},
     "output_type": "execute_result"
    }
   ],
   "source": [
    "# Load the pre-labeled data\n",
    "metacriticData = em.read_csv_metadata(\"data/metacritic.csv\")\n",
    "wikiData = em.read_csv_metadata(\"data/wikiData.csv\")\n",
    "\n",
    "# add ID column to each dataset\n",
    "metacriticID = [\"a\" + str(num) for num in np.arange(1, len(metacriticData.index)+1)]\n",
    "wikiID = [\"b\" + str(num) for num in np.arange(1, len(wikiData.index)+1)]\n",
    "\n",
    "col_idx = 0\n",
    "metacriticData.insert(loc = col_idx, column = 'ID', value = metacriticID)\n",
    "wikiData.insert(loc = col_idx, column = 'ID', value = wikiID)\n",
    "em.set_key(wikiData, 'ID')\n",
    "em.set_key(metacriticData, 'ID')\n",
    "\n",
    "em.set_key(wikiData, 'ID')\n",
    "em.set_key(metacriticData, 'ID')"
   ]
  },
  {
   "cell_type": "code",
   "execution_count": 50,
   "metadata": {},
   "outputs": [
    {
     "data": {
      "text/html": [
       "<div>\n",
       "<style scoped>\n",
       "    .dataframe tbody tr th:only-of-type {\n",
       "        vertical-align: middle;\n",
       "    }\n",
       "\n",
       "    .dataframe tbody tr th {\n",
       "        vertical-align: top;\n",
       "    }\n",
       "\n",
       "    .dataframe thead th {\n",
       "        text-align: right;\n",
       "    }\n",
       "</style>\n",
       "<table border=\"1\" class=\"dataframe\">\n",
       "  <thead>\n",
       "    <tr style=\"text-align: right;\">\n",
       "      <th></th>\n",
       "      <th>Unnamed: 0</th>\n",
       "      <th>_id</th>\n",
       "      <th>ltable_ID</th>\n",
       "      <th>rtable_ID</th>\n",
       "      <th>ltable_Album</th>\n",
       "      <th>ltable_Artist</th>\n",
       "      <th>ltable_Release Date</th>\n",
       "      <th>rtable_Album</th>\n",
       "      <th>rtable_Artist</th>\n",
       "      <th>rtable_Release Date</th>\n",
       "      <th>label</th>\n",
       "    </tr>\n",
       "  </thead>\n",
       "  <tbody>\n",
       "    <tr>\n",
       "      <th>0</th>\n",
       "      <td>24</td>\n",
       "      <td>24</td>\n",
       "      <td>a1024</td>\n",
       "      <td>b2294</td>\n",
       "      <td>world eater</td>\n",
       "      <td>blanck mass</td>\n",
       "      <td>Mar 3 2017</td>\n",
       "      <td>world eater</td>\n",
       "      <td>blanck mass</td>\n",
       "      <td>Mar 3 2017</td>\n",
       "      <td>1</td>\n",
       "    </tr>\n",
       "    <tr>\n",
       "      <th>1</th>\n",
       "      <td>83</td>\n",
       "      <td>83</td>\n",
       "      <td>a1074</td>\n",
       "      <td>b2263</td>\n",
       "      <td>youngish american</td>\n",
       "      <td>dams of the west</td>\n",
       "      <td>Feb 24 2017</td>\n",
       "      <td>still // alone</td>\n",
       "      <td>the golden filter</td>\n",
       "      <td>Feb 24 2017</td>\n",
       "      <td>0</td>\n",
       "    </tr>\n",
       "    <tr>\n",
       "      <th>2</th>\n",
       "      <td>98</td>\n",
       "      <td>98</td>\n",
       "      <td>a1094</td>\n",
       "      <td>b2236</td>\n",
       "      <td>terrible human beings</td>\n",
       "      <td>the orwells</td>\n",
       "      <td>Feb 17 2017</td>\n",
       "      <td>terrible human beings</td>\n",
       "      <td>the orwells</td>\n",
       "      <td>Feb 17 2017</td>\n",
       "      <td>1</td>\n",
       "    </tr>\n",
       "    <tr>\n",
       "      <th>3</th>\n",
       "      <td>127</td>\n",
       "      <td>127</td>\n",
       "      <td>a1116</td>\n",
       "      <td>b320</td>\n",
       "      <td>new order presents be music</td>\n",
       "      <td>various artists</td>\n",
       "      <td>Feb 17 2017</td>\n",
       "      <td>i'll be home for christmas</td>\n",
       "      <td>various artists</td>\n",
       "      <td>Nov 24 2014</td>\n",
       "      <td>0</td>\n",
       "    </tr>\n",
       "    <tr>\n",
       "      <th>4</th>\n",
       "      <td>150</td>\n",
       "      <td>150</td>\n",
       "      <td>a1143</td>\n",
       "      <td>b2171</td>\n",
       "      <td>process</td>\n",
       "      <td>sampha</td>\n",
       "      <td>Feb 3 2017</td>\n",
       "      <td>process</td>\n",
       "      <td>sampha</td>\n",
       "      <td>Feb 3 2017</td>\n",
       "      <td>1</td>\n",
       "    </tr>\n",
       "  </tbody>\n",
       "</table>\n",
       "</div>"
      ],
      "text/plain": [
       "   Unnamed: 0  _id ltable_ID rtable_ID                 ltable_Album  \\\n",
       "0          24   24     a1024     b2294                  world eater   \n",
       "1          83   83     a1074     b2263            youngish american   \n",
       "2          98   98     a1094     b2236        terrible human beings   \n",
       "3         127  127     a1116      b320  new order presents be music   \n",
       "4         150  150     a1143     b2171                      process   \n",
       "\n",
       "      ltable_Artist ltable_Release Date                rtable_Album  \\\n",
       "0       blanck mass          Mar 3 2017                 world eater   \n",
       "1  dams of the west         Feb 24 2017              still // alone   \n",
       "2       the orwells         Feb 17 2017       terrible human beings   \n",
       "3   various artists         Feb 17 2017  i'll be home for christmas   \n",
       "4            sampha          Feb 3 2017                     process   \n",
       "\n",
       "       rtable_Artist rtable_Release Date  label  \n",
       "0        blanck mass          Mar 3 2017      1  \n",
       "1  the golden filter         Feb 24 2017      0  \n",
       "2        the orwells         Feb 17 2017      1  \n",
       "3    various artists         Nov 24 2014      0  \n",
       "4             sampha          Feb 3 2017      1  "
      ]
     },
     "execution_count": 50,
     "metadata": {},
     "output_type": "execute_result"
    }
   ],
   "source": [
    "#read in labeled samples\n",
    "S = em.read_csv_metadata(\"candidates_sample.csv\", \n",
    "                         key='_id',\n",
    "                         ltable=metacriticData, rtable=wikiData, \n",
    "                         fk_ltable='ltable_ID', fk_rtable='rtable_ID')\n",
    "S.head()"
   ]
  },
  {
   "cell_type": "code",
   "execution_count": 52,
   "metadata": {},
   "outputs": [
    {
     "name": "stdout",
     "output_type": "stream",
     "text": [
      "Reading I and J from files\n"
     ]
    }
   ],
   "source": [
    "# Split S into I an J\n",
    "i_file = \"I.csv\"\n",
    "j_file = \"J.csv\"\n",
    "if not os.path.isfile(i_file): #so you don't delete your labels on accident\n",
    "    IJ = em.split_train_test(S, train_proportion=0.5, random_state=0)\n",
    "    I = IJ['train']\n",
    "    J = IJ['test']\n",
    "    I.to_csv(i_file,sep=\",\")\n",
    "    J.to_csv(j_file,sep=\",\")\n",
    "    print \"Split samples into I and J\"\n",
    "else:\n",
    "    I = em.read_csv_metadata(i_file)\n",
    "    J = em.read_csv_metadata(j_file)\n",
    "    print \"Reading I and J from files\""
   ]
  }
 ],
 "metadata": {
  "kernelspec": {
   "display_name": "Python 2",
   "language": "python",
   "name": "python2"
  },
  "language_info": {
   "codemirror_mode": {
    "name": "ipython",
    "version": 2
   },
   "file_extension": ".py",
   "mimetype": "text/x-python",
   "name": "python",
   "nbconvert_exporter": "python",
   "pygments_lexer": "ipython2",
   "version": "2.7.12"
  }
 },
 "nbformat": 4,
 "nbformat_minor": 2
}
