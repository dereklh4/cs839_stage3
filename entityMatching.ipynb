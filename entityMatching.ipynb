{
 "cells": [
  {
   "cell_type": "markdown",
   "metadata": {},
   "source": [
    "# Project Stage 3: Entity Matching (EM)\n",
    "\n",
    "Problem Description:\n",
    "We have extracted two tables A, B. Both tables have the same schema. Now we need to perform entity matching and will do so with Magellan, an EM tool to match the two tables. \n",
    "\n",
    "- Goal: find entities across two tables (A, B) that match. \n"
   ]
  },
  {
   "cell_type": "code",
   "execution_count": 1,
   "metadata": {},
   "outputs": [],
   "source": [
    "import py_entitymatching as em\n",
    "import pandas as pd\n",
    "import os, sys\n",
    "import numpy as np"
   ]
  },
  {
   "cell_type": "markdown",
   "metadata": {
    "collapsed": true
   },
   "source": [
    "# Read CSV\n",
    "\n",
    "- Read csv file from disk as a table and set its metadata"
   ]
  },
  {
   "cell_type": "code",
   "execution_count": 2,
   "metadata": {},
   "outputs": [],
   "source": [
    "metacriticData = pd.read_csv('data/metacritic.csv')\n",
    "wikiData = pd.read_csv('data/wikiData.csv')"
   ]
  },
  {
   "cell_type": "code",
   "execution_count": 3,
   "metadata": {},
   "outputs": [],
   "source": [
    "# add ID column to each dataset\n",
    "metacriticID = [\"a\" + str(num) for num in np.arange(1, len(metacriticData.index)+1)]\n",
    "wikiID = [\"b\" + str(num) for num in np.arange(1, len(wikiData.index)+1)]\n",
    "\n",
    "col_idx = 0\n",
    "metacriticData.insert(loc = col_idx, column = 'ID', value = metacriticID)\n",
    "wikiData.insert(loc = col_idx, column = 'ID', value = wikiID)"
   ]
  },
  {
   "cell_type": "code",
   "execution_count": 4,
   "metadata": {},
   "outputs": [
    {
     "data": {
      "text/html": [
       "<div>\n",
       "<style scoped>\n",
       "    .dataframe tbody tr th:only-of-type {\n",
       "        vertical-align: middle;\n",
       "    }\n",
       "\n",
       "    .dataframe tbody tr th {\n",
       "        vertical-align: top;\n",
       "    }\n",
       "\n",
       "    .dataframe thead th {\n",
       "        text-align: right;\n",
       "    }\n",
       "</style>\n",
       "<table border=\"1\" class=\"dataframe\">\n",
       "  <thead>\n",
       "    <tr style=\"text-align: right;\">\n",
       "      <th></th>\n",
       "      <th>ID</th>\n",
       "      <th>Album</th>\n",
       "      <th>Artist</th>\n",
       "      <th>Genre</th>\n",
       "      <th>Label</th>\n",
       "      <th>Producer</th>\n",
       "      <th>Release Date</th>\n",
       "      <th>Meta Score</th>\n",
       "    </tr>\n",
       "  </thead>\n",
       "  <tbody>\n",
       "    <tr>\n",
       "      <th>0</th>\n",
       "      <td>a1</td>\n",
       "      <td>Wrong Creatures</td>\n",
       "      <td>Black Rebel Motorcycle Club</td>\n",
       "      <td>['Pop/Rock']</td>\n",
       "      <td>['Vagrant Records']</td>\n",
       "      <td>NaN</td>\n",
       "      <td>Jan 12 2018</td>\n",
       "      <td>69</td>\n",
       "    </tr>\n",
       "    <tr>\n",
       "      <th>1</th>\n",
       "      <td>a2</td>\n",
       "      <td>No Cross No Crown</td>\n",
       "      <td>Corrosion of Conformity</td>\n",
       "      <td>['Pop/Rock']</td>\n",
       "      <td>['Nuclear Blast']</td>\n",
       "      <td>NaN</td>\n",
       "      <td>Jan 12 2018</td>\n",
       "      <td>77</td>\n",
       "    </tr>\n",
       "    <tr>\n",
       "      <th>2</th>\n",
       "      <td>a3</td>\n",
       "      <td>Encore</td>\n",
       "      <td>Anderson East</td>\n",
       "      <td>['Singer-Songwriter']</td>\n",
       "      <td>['Low Country Sound']</td>\n",
       "      <td>NaN</td>\n",
       "      <td>Jan 12 2018</td>\n",
       "      <td>74</td>\n",
       "    </tr>\n",
       "    <tr>\n",
       "      <th>3</th>\n",
       "      <td>a4</td>\n",
       "      <td>A Day With The Homies [EP]</td>\n",
       "      <td>Panda Bear</td>\n",
       "      <td>['Pop/Rock']</td>\n",
       "      <td>['Domino']</td>\n",
       "      <td>NaN</td>\n",
       "      <td>Jan 12 2018</td>\n",
       "      <td>74</td>\n",
       "    </tr>\n",
       "    <tr>\n",
       "      <th>4</th>\n",
       "      <td>a5</td>\n",
       "      <td>Four Stones</td>\n",
       "      <td>Dean McPhee</td>\n",
       "      <td>['Alternative']</td>\n",
       "      <td>['Hood Faire']</td>\n",
       "      <td>NaN</td>\n",
       "      <td>Jan 12 2018</td>\n",
       "      <td>84</td>\n",
       "    </tr>\n",
       "  </tbody>\n",
       "</table>\n",
       "</div>"
      ],
      "text/plain": [
       "   ID                       Album                       Artist  \\\n",
       "0  a1             Wrong Creatures  Black Rebel Motorcycle Club   \n",
       "1  a2           No Cross No Crown      Corrosion of Conformity   \n",
       "2  a3                      Encore                Anderson East   \n",
       "3  a4  A Day With The Homies [EP]                   Panda Bear   \n",
       "4  a5                 Four Stones                  Dean McPhee   \n",
       "\n",
       "                   Genre                  Label  Producer Release Date  \\\n",
       "0           ['Pop/Rock']    ['Vagrant Records']       NaN  Jan 12 2018   \n",
       "1           ['Pop/Rock']      ['Nuclear Blast']       NaN  Jan 12 2018   \n",
       "2  ['Singer-Songwriter']  ['Low Country Sound']       NaN  Jan 12 2018   \n",
       "3           ['Pop/Rock']             ['Domino']       NaN  Jan 12 2018   \n",
       "4        ['Alternative']         ['Hood Faire']       NaN  Jan 12 2018   \n",
       "\n",
       "   Meta Score  \n",
       "0          69  \n",
       "1          77  \n",
       "2          74  \n",
       "3          74  \n",
       "4          84  "
      ]
     },
     "execution_count": 4,
     "metadata": {},
     "output_type": "execute_result"
    }
   ],
   "source": [
    "metacriticData.head()"
   ]
  },
  {
   "cell_type": "code",
   "execution_count": 5,
   "metadata": {},
   "outputs": [
    {
     "data": {
      "text/html": [
       "<div>\n",
       "<style scoped>\n",
       "    .dataframe tbody tr th:only-of-type {\n",
       "        vertical-align: middle;\n",
       "    }\n",
       "\n",
       "    .dataframe tbody tr th {\n",
       "        vertical-align: top;\n",
       "    }\n",
       "\n",
       "    .dataframe thead th {\n",
       "        text-align: right;\n",
       "    }\n",
       "</style>\n",
       "<table border=\"1\" class=\"dataframe\">\n",
       "  <thead>\n",
       "    <tr style=\"text-align: right;\">\n",
       "      <th></th>\n",
       "      <th>ID</th>\n",
       "      <th>Album</th>\n",
       "      <th>Artist</th>\n",
       "      <th>Genre</th>\n",
       "      <th>Label</th>\n",
       "      <th>Producer</th>\n",
       "      <th>Release Date</th>\n",
       "      <th>Meta Score</th>\n",
       "    </tr>\n",
       "  </thead>\n",
       "  <tbody>\n",
       "    <tr>\n",
       "      <th>0</th>\n",
       "      <td>b1</td>\n",
       "      <td>Be Calm</td>\n",
       "      <td>Air Dubai</td>\n",
       "      <td>['Hip hop', ' pop']</td>\n",
       "      <td>['Hopeless']</td>\n",
       "      <td>['Dwight A. Baker', ' Colin Munroe']</td>\n",
       "      <td>Jul 1 2014</td>\n",
       "      <td>NaN</td>\n",
       "    </tr>\n",
       "    <tr>\n",
       "      <th>1</th>\n",
       "      <td>b2</td>\n",
       "      <td>From Parts Unknown</td>\n",
       "      <td>Every Time I Die</td>\n",
       "      <td>['Metalcore', ' hardcore punk', ' mathcore', ' sludge metal']</td>\n",
       "      <td>['Epitaph']</td>\n",
       "      <td>['Kurt Ballou']</td>\n",
       "      <td>Jul 1 2014</td>\n",
       "      <td>NaN</td>\n",
       "    </tr>\n",
       "    <tr>\n",
       "      <th>2</th>\n",
       "      <td>b3</td>\n",
       "      <td>I'm Almost Happy Here, But I Never Feel At Home</td>\n",
       "      <td>Hotel Books</td>\n",
       "      <td>['Spoken word', ' indie rock', ' emo']</td>\n",
       "      <td>['inVogue']</td>\n",
       "      <td>['Jay Maas', ' Hiram Hernandez']</td>\n",
       "      <td>Jul 1 2014</td>\n",
       "      <td>NaN</td>\n",
       "    </tr>\n",
       "    <tr>\n",
       "      <th>3</th>\n",
       "      <td>b4</td>\n",
       "      <td>Paula</td>\n",
       "      <td>Robin Thicke</td>\n",
       "      <td>['R&amp;B']</td>\n",
       "      <td>['Star Trak', ' Interscope']</td>\n",
       "      <td>['Robin Thicke', ' Pro Jay']</td>\n",
       "      <td>Jul 1 2014</td>\n",
       "      <td>NaN</td>\n",
       "    </tr>\n",
       "    <tr>\n",
       "      <th>4</th>\n",
       "      <td>b5</td>\n",
       "      <td>Isolate and Medicate</td>\n",
       "      <td>Seether</td>\n",
       "      <td>['Post-grunge', ' hard rock', ' alternative metal']</td>\n",
       "      <td>['The Bicycle Music Company', ' Concord Bicycle', ' Spinefarm']</td>\n",
       "      <td>[\"Brendan O'Brien\"]</td>\n",
       "      <td>Jul 1 2014</td>\n",
       "      <td>NaN</td>\n",
       "    </tr>\n",
       "  </tbody>\n",
       "</table>\n",
       "</div>"
      ],
      "text/plain": [
       "   ID                                            Album            Artist  \\\n",
       "0  b1                                          Be Calm         Air Dubai   \n",
       "1  b2                               From Parts Unknown  Every Time I Die   \n",
       "2  b3  I'm Almost Happy Here, But I Never Feel At Home       Hotel Books   \n",
       "3  b4                                            Paula      Robin Thicke   \n",
       "4  b5                             Isolate and Medicate           Seether   \n",
       "\n",
       "                                                           Genre  \\\n",
       "0                                            ['Hip hop', ' pop']   \n",
       "1  ['Metalcore', ' hardcore punk', ' mathcore', ' sludge metal']   \n",
       "2                         ['Spoken word', ' indie rock', ' emo']   \n",
       "3                                                        ['R&B']   \n",
       "4            ['Post-grunge', ' hard rock', ' alternative metal']   \n",
       "\n",
       "                                                             Label  \\\n",
       "0                                                     ['Hopeless']   \n",
       "1                                                      ['Epitaph']   \n",
       "2                                                      ['inVogue']   \n",
       "3                                     ['Star Trak', ' Interscope']   \n",
       "4  ['The Bicycle Music Company', ' Concord Bicycle', ' Spinefarm']   \n",
       "\n",
       "                               Producer Release Date  Meta Score  \n",
       "0  ['Dwight A. Baker', ' Colin Munroe']   Jul 1 2014         NaN  \n",
       "1                       ['Kurt Ballou']   Jul 1 2014         NaN  \n",
       "2      ['Jay Maas', ' Hiram Hernandez']   Jul 1 2014         NaN  \n",
       "3          ['Robin Thicke', ' Pro Jay']   Jul 1 2014         NaN  \n",
       "4                   [\"Brendan O'Brien\"]   Jul 1 2014         NaN  "
      ]
     },
     "execution_count": 5,
     "metadata": {},
     "output_type": "execute_result"
    }
   ],
   "source": [
    "wikiData.head()"
   ]
  },
  {
   "cell_type": "code",
   "execution_count": 6,
   "metadata": {},
   "outputs": [],
   "source": [
    "# set metadata\n",
    "em.set_key(wikiData, 'ID')\n",
    "em.set_key(metacriticData, 'ID')\n",
    "\n",
    "wikiData[\"Album\"] = wikiData[\"Album\"].str.lower()\n",
    "metacriticData[\"Album\"] = metacriticData[\"Album\"].str.lower()\n",
    "\n",
    "wikiData[\"Artist\"] = wikiData[\"Artist\"].str.lower()\n",
    "metacriticData[\"Artist\"] = metacriticData[\"Artist\"].str.lower()"
   ]
  },
  {
   "cell_type": "markdown",
   "metadata": {},
   "source": [
    "# Blocking via overlap"
   ]
  },
  {
   "cell_type": "code",
   "execution_count": 7,
   "metadata": {},
   "outputs": [
    {
     "name": "stdout",
     "output_type": "stream",
     "text": [
      "96621\n"
     ]
    }
   ],
   "source": [
    "ob = em.OverlapBlocker()\n",
    "\n",
    "#must match 3 criteria\n",
    "#1. overlap at least 1 word of artist\n",
    "oc = ob.block_tables(metacriticData, wikiData,'Artist','Artist',word_level=True,overlap_size=1,\n",
    "                   l_output_attrs=[\"Album\",\"Artist\",\"Release Date\"],\n",
    "                   r_output_attrs=[\"Album\",\"Artist\",\"Release Date\"],\n",
    "                    show_progress=False)\n",
    "\n",
    "print(len(oc))\n",
    "# file_name = 'overlap_results.csv'\n",
    "# C2.to_csv(file_name, sep=',')\n",
    "# oc.head(1000)"
   ]
  },
  {
   "cell_type": "code",
   "execution_count": 9,
   "metadata": {},
   "outputs": [
    {
     "name": "stdout",
     "output_type": "stream",
     "text": [
      "6975\n",
      "3329\n"
     ]
    },
    {
     "data": {
      "text/html": [
       "<div>\n",
       "<style scoped>\n",
       "    .dataframe tbody tr th:only-of-type {\n",
       "        vertical-align: middle;\n",
       "    }\n",
       "\n",
       "    .dataframe tbody tr th {\n",
       "        vertical-align: top;\n",
       "    }\n",
       "\n",
       "    .dataframe thead th {\n",
       "        text-align: right;\n",
       "    }\n",
       "</style>\n",
       "<table border=\"1\" class=\"dataframe\">\n",
       "  <thead>\n",
       "    <tr style=\"text-align: right;\">\n",
       "      <th></th>\n",
       "      <th>_id</th>\n",
       "      <th>ltable_ID</th>\n",
       "      <th>rtable_ID</th>\n",
       "      <th>ltable_Album</th>\n",
       "      <th>ltable_Artist</th>\n",
       "      <th>ltable_Release Date</th>\n",
       "      <th>rtable_Album</th>\n",
       "      <th>rtable_Artist</th>\n",
       "      <th>rtable_Release Date</th>\n",
       "    </tr>\n",
       "  </thead>\n",
       "  <tbody>\n",
       "    <tr>\n",
       "      <th>713</th>\n",
       "      <td>713</td>\n",
       "      <td>a2567</td>\n",
       "      <td>b44</td>\n",
       "      <td>feed the fire</td>\n",
       "      <td>promise and the monster</td>\n",
       "      <td>Jan 22 2016</td>\n",
       "      <td>the resistance: rise of the runaways</td>\n",
       "      <td>crown the empire</td>\n",
       "      <td>Jul 22 2014</td>\n",
       "    </tr>\n",
       "    <tr>\n",
       "      <th>715</th>\n",
       "      <td>715</td>\n",
       "      <td>a2569</td>\n",
       "      <td>b44</td>\n",
       "      <td>above the prairie</td>\n",
       "      <td>the pines</td>\n",
       "      <td>Jan 22 2016</td>\n",
       "      <td>the resistance: rise of the runaways</td>\n",
       "      <td>crown the empire</td>\n",
       "      <td>Jul 22 2014</td>\n",
       "    </tr>\n",
       "    <tr>\n",
       "      <th>724</th>\n",
       "      <td>724</td>\n",
       "      <td>a534</td>\n",
       "      <td>b44</td>\n",
       "      <td>the sounds of crenshaw, vol. 1</td>\n",
       "      <td>the pollyseeds</td>\n",
       "      <td>Jul 14 2017</td>\n",
       "      <td>the resistance: rise of the runaways</td>\n",
       "      <td>crown the empire</td>\n",
       "      <td>Jul 22 2014</td>\n",
       "    </tr>\n",
       "    <tr>\n",
       "      <th>736</th>\n",
       "      <td>736</td>\n",
       "      <td>a557</td>\n",
       "      <td>b44</td>\n",
       "      <td>the usual suspects</td>\n",
       "      <td>jah wobble's invaders of the heart</td>\n",
       "      <td>Jul 7 2017</td>\n",
       "      <td>the resistance: rise of the runaways</td>\n",
       "      <td>crown the empire</td>\n",
       "      <td>Jul 22 2014</td>\n",
       "    </tr>\n",
       "    <tr>\n",
       "      <th>737</th>\n",
       "      <td>737</td>\n",
       "      <td>a558</td>\n",
       "      <td>b44</td>\n",
       "      <td>the nothing</td>\n",
       "      <td>the last dinosaur</td>\n",
       "      <td>Jul 7 2017</td>\n",
       "      <td>the resistance: rise of the runaways</td>\n",
       "      <td>crown the empire</td>\n",
       "      <td>Jul 22 2014</td>\n",
       "    </tr>\n",
       "  </tbody>\n",
       "</table>\n",
       "</div>"
      ],
      "text/plain": [
       "     _id ltable_ID rtable_ID                    ltable_Album  \\\n",
       "713  713     a2567       b44                   feed the fire   \n",
       "715  715     a2569       b44               above the prairie   \n",
       "724  724      a534       b44  the sounds of crenshaw, vol. 1   \n",
       "736  736      a557       b44              the usual suspects   \n",
       "737  737      a558       b44                     the nothing   \n",
       "\n",
       "                          ltable_Artist ltable_Release Date  \\\n",
       "713             promise and the monster         Jan 22 2016   \n",
       "715                           the pines         Jan 22 2016   \n",
       "724                      the pollyseeds         Jul 14 2017   \n",
       "736  jah wobble's invaders of the heart          Jul 7 2017   \n",
       "737                   the last dinosaur          Jul 7 2017   \n",
       "\n",
       "                             rtable_Album     rtable_Artist  \\\n",
       "713  the resistance: rise of the runaways  crown the empire   \n",
       "715  the resistance: rise of the runaways  crown the empire   \n",
       "724  the resistance: rise of the runaways  crown the empire   \n",
       "736  the resistance: rise of the runaways  crown the empire   \n",
       "737  the resistance: rise of the runaways  crown the empire   \n",
       "\n",
       "    rtable_Release Date  \n",
       "713         Jul 22 2014  \n",
       "715         Jul 22 2014  \n",
       "724         Jul 22 2014  \n",
       "736         Jul 22 2014  \n",
       "737         Jul 22 2014  "
      ]
     },
     "execution_count": 9,
     "metadata": {},
     "output_type": "execute_result"
    }
   ],
   "source": [
    "#2. at least 1 word of title\n",
    "ob2 = em.OverlapBlocker()\n",
    "oc2 = ob2.block_candset(oc, 'Album', 'Album', word_level=True,overlap_size=1,show_progress=False)\n",
    "print(len(oc2))\n",
    "#oc2.head(50)\n",
    "\n",
    "#3. 1 of the 3 (month day year) of release date\n",
    "ob3 = em.OverlapBlocker()\n",
    "oc3 = ob3.block_candset(oc2, 'Release Date', 'Release Date', word_level=True,overlap_size=1,show_progress =False)\n",
    "print(len(oc3))\n",
    "oc3.head()\n"
   ]
  },
  {
   "cell_type": "markdown",
   "metadata": {},
   "source": [
    "### Union results with album title equivalence blocker"
   ]
  },
  {
   "cell_type": "code",
   "execution_count": 14,
   "metadata": {},
   "outputs": [
    {
     "name": "stdout",
     "output_type": "stream",
     "text": [
      "6632\n"
     ]
    }
   ],
   "source": [
    "#block with album title\n",
    "ab = em.AttrEquivalenceBlocker()\n",
    "C1 = ab.block_tables(metacriticData, wikiData, \n",
    "                   l_block_attr='Album', r_block_attr='Album', \n",
    "                    l_output_attrs=['Album', 'Artist', 'Release Date'],\n",
    "                    r_output_attrs=['Album', 'Artist', 'Release Date'],\n",
    "                    allow_missing=True)\n",
    "\n",
    "G = em.combine_blocker_outputs_via_union([C1, oc3])\n",
    "print len(G)\n",
    "\n",
    "file_name = 'overlap_results.csv'\n",
    "oc3.to_csv(file_name, sep=',')"
   ]
  },
  {
   "cell_type": "code",
   "execution_count": 15,
   "metadata": {},
   "outputs": [],
   "source": [
    "#G.head(50)"
   ]
  },
  {
   "cell_type": "code",
   "execution_count": 13,
   "metadata": {},
   "outputs": [],
   "source": [
    "#dbg = em.debug_blocker(G,metacriticData,wikiData,output_size=50)\n",
    "#dbg"
   ]
  },
  {
   "cell_type": "markdown",
   "metadata": {
    "collapsed": true
   },
   "source": [
    "# Blocking via attribute equivalence blocker\n",
    "\n",
    "- apply multiple blockers to produce a candidate set of tuple pairs.\n",
    "- assume that two albums with different release dates do not refer to the same real world album.\n",
    "- then assume that two albums with different album names do not refer to the same real world album. So we apply attribute equivalence blocking on Album."
   ]
  },
  {
   "cell_type": "code",
   "execution_count": 12,
   "metadata": {},
   "outputs": [],
   "source": [
    "# Block with attribute equivalence blocker object\n",
    "ab1 = em.AttrEquivalenceBlocker()\n",
    "\n",
    "# block using release date\n",
    "C1 = ab1.block_tables(metacriticData, wikiData, \n",
    "                   l_block_attr='Release Date', r_block_attr='Release Date', \n",
    "                    l_output_attrs=['Album', 'Artist', 'Release Date'],\n",
    "                    r_output_attrs=['Album', 'Artist', 'Release Date'],\n",
    "                    l_output_prefix='l_', r_output_prefix='r_', allow_missing=True)"
   ]
  },
  {
   "cell_type": "code",
   "execution_count": 10,
   "metadata": {},
   "outputs": [],
   "source": [
    "# Instantiate attribute equivalence blocker object\n",
    "ab2 = em.AttrEquivalenceBlocker()\n",
    "\n",
    "# Use block_tables to apply blocking over two input tables.\n",
    "C2 = ab2.block_candset(C1, 'Album', 'Album', show_progress = False)"
   ]
  },
  {
   "cell_type": "code",
   "execution_count": 13,
   "metadata": {},
   "outputs": [
    {
     "data": {
      "text/plain": [
       "51115"
      ]
     },
     "execution_count": 13,
     "metadata": {},
     "output_type": "execute_result"
    }
   ],
   "source": [
    "# Display the candidate set of tuple pairs\n",
    "len(C1)"
   ]
  },
  {
   "cell_type": "code",
   "execution_count": 12,
   "metadata": {},
   "outputs": [],
   "source": [
    "file_name = 'results.csv'\n",
    "C2.to_csv(file_name, sep=',')"
   ]
  },
  {
   "cell_type": "code",
   "execution_count": 14,
   "metadata": {},
   "outputs": [
    {
     "data": {
      "text/html": [
       "<div>\n",
       "<style scoped>\n",
       "    .dataframe tbody tr th:only-of-type {\n",
       "        vertical-align: middle;\n",
       "    }\n",
       "\n",
       "    .dataframe tbody tr th {\n",
       "        vertical-align: top;\n",
       "    }\n",
       "\n",
       "    .dataframe thead th {\n",
       "        text-align: right;\n",
       "    }\n",
       "</style>\n",
       "<table border=\"1\" class=\"dataframe\">\n",
       "  <thead>\n",
       "    <tr style=\"text-align: right;\">\n",
       "      <th></th>\n",
       "      <th>_id</th>\n",
       "      <th>l_ID</th>\n",
       "      <th>r_ID</th>\n",
       "      <th>l_Album</th>\n",
       "      <th>l_Artist</th>\n",
       "      <th>l_Release Date</th>\n",
       "      <th>r_Album</th>\n",
       "      <th>r_Artist</th>\n",
       "      <th>r_Release Date</th>\n",
       "    </tr>\n",
       "  </thead>\n",
       "  <tbody>\n",
       "    <tr>\n",
       "      <th>3</th>\n",
       "      <td>3</td>\n",
       "      <td>a16</td>\n",
       "      <td>b3181</td>\n",
       "      <td>Saturation III</td>\n",
       "      <td>BROCKHAMPTON</td>\n",
       "      <td>Dec 15 2017</td>\n",
       "      <td>Saturation III</td>\n",
       "      <td>Brockhampton</td>\n",
       "      <td>Dec 15 2017</td>\n",
       "    </tr>\n",
       "    <tr>\n",
       "      <th>19</th>\n",
       "      <td>19</td>\n",
       "      <td>a18</td>\n",
       "      <td>b3183</td>\n",
       "      <td>Revival</td>\n",
       "      <td>Eminem</td>\n",
       "      <td>Dec 15 2017</td>\n",
       "      <td>Revival</td>\n",
       "      <td>Eminem</td>\n",
       "      <td>Dec 15 2017</td>\n",
       "    </tr>\n",
       "    <tr>\n",
       "      <th>41</th>\n",
       "      <td>41</td>\n",
       "      <td>a21</td>\n",
       "      <td>b3184</td>\n",
       "      <td>The Beautiful &amp; Damned</td>\n",
       "      <td>G-Eazy</td>\n",
       "      <td>Dec 15 2017</td>\n",
       "      <td>The Beautiful &amp; Damned</td>\n",
       "      <td>G-Eazy</td>\n",
       "      <td>Dec 15 2017</td>\n",
       "    </tr>\n",
       "    <tr>\n",
       "      <th>51</th>\n",
       "      <td>51</td>\n",
       "      <td>a23</td>\n",
       "      <td>b3180</td>\n",
       "      <td>Asking Alexandria</td>\n",
       "      <td>Asking Alexandria</td>\n",
       "      <td>Dec 15 2017</td>\n",
       "      <td>Asking Alexandria</td>\n",
       "      <td>Asking Alexandria</td>\n",
       "      <td>Dec 15 2017</td>\n",
       "    </tr>\n",
       "    <tr>\n",
       "      <th>142</th>\n",
       "      <td>142</td>\n",
       "      <td>a34</td>\n",
       "      <td>b3176</td>\n",
       "      <td>What Makes You Country</td>\n",
       "      <td>Luke Bryan</td>\n",
       "      <td>Dec 8 2017</td>\n",
       "      <td>What Makes You Country</td>\n",
       "      <td>Luke Bryan</td>\n",
       "      <td>Dec 8 2017</td>\n",
       "    </tr>\n",
       "    <tr>\n",
       "      <th>175</th>\n",
       "      <td>175</td>\n",
       "      <td>a38</td>\n",
       "      <td>b3169</td>\n",
       "      <td>War &amp; Leisure</td>\n",
       "      <td>Miguel</td>\n",
       "      <td>Dec 1 2017</td>\n",
       "      <td>War &amp; Leisure</td>\n",
       "      <td>Miguel</td>\n",
       "      <td>Dec 1 2017</td>\n",
       "    </tr>\n",
       "    <tr>\n",
       "      <th>217</th>\n",
       "      <td>217</td>\n",
       "      <td>a43</td>\n",
       "      <td>b3171</td>\n",
       "      <td>Songs of Experience</td>\n",
       "      <td>U2</td>\n",
       "      <td>Dec 1 2017</td>\n",
       "      <td>Songs of Experience</td>\n",
       "      <td>U2</td>\n",
       "      <td>Dec 1 2017</td>\n",
       "    </tr>\n",
       "    <tr>\n",
       "      <th>336</th>\n",
       "      <td>336</td>\n",
       "      <td>a58</td>\n",
       "      <td>b3160</td>\n",
       "      <td>Who Built the Moon?</td>\n",
       "      <td>Noel Gallagher's High Flying Birds</td>\n",
       "      <td>Nov 24 2017</td>\n",
       "      <td>Who Built the Moon?</td>\n",
       "      <td>Noel Gallagher's High Flying Birds</td>\n",
       "      <td>Nov 24 2017</td>\n",
       "    </tr>\n",
       "    <tr>\n",
       "      <th>339</th>\n",
       "      <td>339</td>\n",
       "      <td>a59</td>\n",
       "      <td>b3154</td>\n",
       "      <td>Utopia</td>\n",
       "      <td>Björk</td>\n",
       "      <td>Nov 24 2017</td>\n",
       "      <td>Utopia</td>\n",
       "      <td>Björk</td>\n",
       "      <td>Nov 24 2017</td>\n",
       "    </tr>\n",
       "    <tr>\n",
       "      <th>376</th>\n",
       "      <td>376</td>\n",
       "      <td>a63</td>\n",
       "      <td>b3150</td>\n",
       "      <td>The Architect</td>\n",
       "      <td>Paloma Faith</td>\n",
       "      <td>Nov 17 2017</td>\n",
       "      <td>The Architect</td>\n",
       "      <td>Paloma Faith</td>\n",
       "      <td>Nov 17 2017</td>\n",
       "    </tr>\n",
       "  </tbody>\n",
       "</table>\n",
       "</div>"
      ],
      "text/plain": [
       "     _id l_ID   r_ID                 l_Album  \\\n",
       "3      3  a16  b3181          Saturation III   \n",
       "19    19  a18  b3183                 Revival   \n",
       "41    41  a21  b3184  The Beautiful & Damned   \n",
       "51    51  a23  b3180       Asking Alexandria   \n",
       "142  142  a34  b3176  What Makes You Country   \n",
       "175  175  a38  b3169           War & Leisure   \n",
       "217  217  a43  b3171     Songs of Experience   \n",
       "336  336  a58  b3160     Who Built the Moon?   \n",
       "339  339  a59  b3154                  Utopia   \n",
       "376  376  a63  b3150           The Architect   \n",
       "\n",
       "                               l_Artist l_Release Date  \\\n",
       "3                          BROCKHAMPTON    Dec 15 2017   \n",
       "19                               Eminem    Dec 15 2017   \n",
       "41                               G-Eazy    Dec 15 2017   \n",
       "51                    Asking Alexandria    Dec 15 2017   \n",
       "142                          Luke Bryan     Dec 8 2017   \n",
       "175                              Miguel     Dec 1 2017   \n",
       "217                                  U2     Dec 1 2017   \n",
       "336  Noel Gallagher's High Flying Birds    Nov 24 2017   \n",
       "339                               Björk    Nov 24 2017   \n",
       "376                        Paloma Faith    Nov 17 2017   \n",
       "\n",
       "                    r_Album                            r_Artist r_Release Date  \n",
       "3            Saturation III                        Brockhampton    Dec 15 2017  \n",
       "19                  Revival                              Eminem    Dec 15 2017  \n",
       "41   The Beautiful & Damned                              G-Eazy    Dec 15 2017  \n",
       "51        Asking Alexandria                   Asking Alexandria    Dec 15 2017  \n",
       "142  What Makes You Country                          Luke Bryan     Dec 8 2017  \n",
       "175           War & Leisure                              Miguel     Dec 1 2017  \n",
       "217     Songs of Experience                                  U2     Dec 1 2017  \n",
       "336     Who Built the Moon?  Noel Gallagher's High Flying Birds    Nov 24 2017  \n",
       "339                  Utopia                               Björk    Nov 24 2017  \n",
       "376           The Architect                        Paloma Faith    Nov 17 2017  "
      ]
     },
     "execution_count": 14,
     "metadata": {},
     "output_type": "execute_result"
    }
   ],
   "source": [
    "C2.head(10)"
   ]
  },
  {
   "cell_type": "code",
   "execution_count": 26,
   "metadata": {},
   "outputs": [
    {
     "data": {
      "text/html": [
       "<div>\n",
       "<style scoped>\n",
       "    .dataframe tbody tr th:only-of-type {\n",
       "        vertical-align: middle;\n",
       "    }\n",
       "\n",
       "    .dataframe tbody tr th {\n",
       "        vertical-align: top;\n",
       "    }\n",
       "\n",
       "    .dataframe thead th {\n",
       "        text-align: right;\n",
       "    }\n",
       "</style>\n",
       "<table border=\"1\" class=\"dataframe\">\n",
       "  <thead>\n",
       "    <tr style=\"text-align: right;\">\n",
       "      <th></th>\n",
       "      <th>_id</th>\n",
       "      <th>ltable_ID</th>\n",
       "      <th>rtable_ID</th>\n",
       "      <th>ltable_Album</th>\n",
       "      <th>ltable_Artist</th>\n",
       "      <th>ltable_Release Date</th>\n",
       "      <th>rtable_Album</th>\n",
       "      <th>rtable_Artist</th>\n",
       "      <th>rtable_Release Date</th>\n",
       "    </tr>\n",
       "  </thead>\n",
       "  <tbody>\n",
       "    <tr>\n",
       "      <th>96147</th>\n",
       "      <td>96147</td>\n",
       "      <td>a58</td>\n",
       "      <td>b3160</td>\n",
       "      <td>Who Built the Moon?</td>\n",
       "      <td>Noel Gallagher's High Flying Birds</td>\n",
       "      <td>Nov 24 2017</td>\n",
       "      <td>Who Built the Moon?</td>\n",
       "      <td>Noel Gallagher's High Flying Birds</td>\n",
       "      <td>Nov 24 2017</td>\n",
       "    </tr>\n",
       "  </tbody>\n",
       "</table>\n",
       "</div>"
      ],
      "text/plain": [
       "         _id ltable_ID rtable_ID         ltable_Album  \\\n",
       "96147  96147       a58     b3160  Who Built the Moon?   \n",
       "\n",
       "                            ltable_Artist ltable_Release Date  \\\n",
       "96147  Noel Gallagher's High Flying Birds         Nov 24 2017   \n",
       "\n",
       "              rtable_Album                       rtable_Artist  \\\n",
       "96147  Who Built the Moon?  Noel Gallagher's High Flying Birds   \n",
       "\n",
       "      rtable_Release Date  \n",
       "96147         Nov 24 2017  "
      ]
     },
     "execution_count": 26,
     "metadata": {},
     "output_type": "execute_result"
    }
   ],
   "source": [
    "oc3.loc[oc3['ltable_Album'] == \"Who Built the Moon?\"]"
   ]
  },
  {
   "cell_type": "code",
   "execution_count": null,
   "metadata": {
    "collapsed": true
   },
   "outputs": [],
   "source": []
  },
  {
   "cell_type": "code",
   "execution_count": null,
   "metadata": {
    "collapsed": true
   },
   "outputs": [],
   "source": []
  },
  {
   "cell_type": "code",
   "execution_count": null,
   "metadata": {
    "collapsed": true
   },
   "outputs": [],
   "source": []
  },
  {
   "cell_type": "code",
   "execution_count": null,
   "metadata": {
    "collapsed": true
   },
   "outputs": [],
   "source": []
  },
  {
   "cell_type": "code",
   "execution_count": null,
   "metadata": {
    "collapsed": true
   },
   "outputs": [],
   "source": []
  },
  {
   "cell_type": "code",
   "execution_count": null,
   "metadata": {
    "collapsed": true
   },
   "outputs": [],
   "source": []
  },
  {
   "cell_type": "code",
   "execution_count": null,
   "metadata": {
    "collapsed": true
   },
   "outputs": [],
   "source": []
  },
  {
   "cell_type": "code",
   "execution_count": null,
   "metadata": {
    "collapsed": true
   },
   "outputs": [],
   "source": []
  },
  {
   "cell_type": "code",
   "execution_count": null,
   "metadata": {
    "collapsed": true
   },
   "outputs": [],
   "source": []
  }
 ],
 "metadata": {
  "kernelspec": {
   "display_name": "Python 2",
   "language": "python",
   "name": "python2"
  },
  "language_info": {
   "codemirror_mode": {
    "name": "ipython",
    "version": 2
   },
   "file_extension": ".py",
   "mimetype": "text/x-python",
   "name": "python",
   "nbconvert_exporter": "python",
   "pygments_lexer": "ipython2",
   "version": "2.7.12"
  }
 },
 "nbformat": 4,
 "nbformat_minor": 2
}
