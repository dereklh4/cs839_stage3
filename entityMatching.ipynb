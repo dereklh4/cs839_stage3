{
 "cells": [
  {
   "cell_type": "markdown",
   "metadata": {},
   "source": [
    "# Project Stage 3: Entity Matching (EM)\n",
    "\n",
    "Problem Description:\n",
    "We have extracted two tables A, B. Both tables have the same schema. Now we need to perform entity matching and will do so with Magellan, an EM tool to match the two tables. \n",
    "\n",
    "- Goal: find entities across two tables (A, B) that match. \n"
   ]
  },
  {
   "cell_type": "code",
   "execution_count": 1,
   "metadata": {},
   "outputs": [],
   "source": [
    "import py_entitymatching as em\n",
    "import pandas as pd\n",
    "import os, sys\n",
    "import numpy as np"
   ]
  },
  {
   "cell_type": "markdown",
   "metadata": {
    "collapsed": true
   },
   "source": [
    "# Read CSV\n",
    "\n",
    "- Read csv file from disk as a table and set its metadata"
   ]
  },
  {
   "cell_type": "code",
   "execution_count": 2,
   "metadata": {},
   "outputs": [],
   "source": [
    "metacriticData = pd.read_csv('data/metacritic.csv')\n",
    "wikiData = pd.read_csv('data/wikiData.csv')"
   ]
  },
  {
   "cell_type": "code",
   "execution_count": 3,
   "metadata": {},
   "outputs": [],
   "source": [
    "# add ID column to each dataset\n",
    "metacriticID = [\"a\" + str(num) for num in np.arange(1, len(metacriticData.index)+1)]\n",
    "wikiID = [\"b\" + str(num) for num in np.arange(1, len(wikiData.index)+1)]\n",
    "\n",
    "col_idx = 0\n",
    "metacriticData.insert(loc = col_idx, column = 'ID', value = metacriticID)\n",
    "wikiData.insert(loc = col_idx, column = 'ID', value = wikiID)"
   ]
  },
  {
   "cell_type": "code",
   "execution_count": 4,
   "metadata": {},
   "outputs": [
    {
     "data": {
      "text/html": [
       "<div>\n",
       "<style scoped>\n",
       "    .dataframe tbody tr th:only-of-type {\n",
       "        vertical-align: middle;\n",
       "    }\n",
       "\n",
       "    .dataframe tbody tr th {\n",
       "        vertical-align: top;\n",
       "    }\n",
       "\n",
       "    .dataframe thead th {\n",
       "        text-align: right;\n",
       "    }\n",
       "</style>\n",
       "<table border=\"1\" class=\"dataframe\">\n",
       "  <thead>\n",
       "    <tr style=\"text-align: right;\">\n",
       "      <th></th>\n",
       "      <th>ID</th>\n",
       "      <th>Album</th>\n",
       "      <th>Artist</th>\n",
       "      <th>Genre</th>\n",
       "      <th>Label</th>\n",
       "      <th>Producer</th>\n",
       "      <th>Release Date</th>\n",
       "      <th>Meta Score</th>\n",
       "    </tr>\n",
       "  </thead>\n",
       "  <tbody>\n",
       "    <tr>\n",
       "      <th>0</th>\n",
       "      <td>a1</td>\n",
       "      <td>Wrong Creatures</td>\n",
       "      <td>Black Rebel Motorcycle Club</td>\n",
       "      <td>['Pop/Rock']</td>\n",
       "      <td>['Vagrant Records']</td>\n",
       "      <td>NaN</td>\n",
       "      <td>Jan 12 2018</td>\n",
       "      <td>69</td>\n",
       "    </tr>\n",
       "    <tr>\n",
       "      <th>1</th>\n",
       "      <td>a2</td>\n",
       "      <td>No Cross No Crown</td>\n",
       "      <td>Corrosion of Conformity</td>\n",
       "      <td>['Pop/Rock']</td>\n",
       "      <td>['Nuclear Blast']</td>\n",
       "      <td>NaN</td>\n",
       "      <td>Jan 12 2018</td>\n",
       "      <td>77</td>\n",
       "    </tr>\n",
       "    <tr>\n",
       "      <th>2</th>\n",
       "      <td>a3</td>\n",
       "      <td>Encore</td>\n",
       "      <td>Anderson East</td>\n",
       "      <td>['Singer-Songwriter']</td>\n",
       "      <td>['Low Country Sound']</td>\n",
       "      <td>NaN</td>\n",
       "      <td>Jan 12 2018</td>\n",
       "      <td>74</td>\n",
       "    </tr>\n",
       "    <tr>\n",
       "      <th>3</th>\n",
       "      <td>a4</td>\n",
       "      <td>A Day With The Homies [EP]</td>\n",
       "      <td>Panda Bear</td>\n",
       "      <td>['Pop/Rock']</td>\n",
       "      <td>['Domino']</td>\n",
       "      <td>NaN</td>\n",
       "      <td>Jan 12 2018</td>\n",
       "      <td>74</td>\n",
       "    </tr>\n",
       "    <tr>\n",
       "      <th>4</th>\n",
       "      <td>a5</td>\n",
       "      <td>Four Stones</td>\n",
       "      <td>Dean McPhee</td>\n",
       "      <td>['Alternative']</td>\n",
       "      <td>['Hood Faire']</td>\n",
       "      <td>NaN</td>\n",
       "      <td>Jan 12 2018</td>\n",
       "      <td>84</td>\n",
       "    </tr>\n",
       "  </tbody>\n",
       "</table>\n",
       "</div>"
      ],
      "text/plain": [
       "   ID                       Album                       Artist  \\\n",
       "0  a1             Wrong Creatures  Black Rebel Motorcycle Club   \n",
       "1  a2           No Cross No Crown      Corrosion of Conformity   \n",
       "2  a3                      Encore                Anderson East   \n",
       "3  a4  A Day With The Homies [EP]                   Panda Bear   \n",
       "4  a5                 Four Stones                  Dean McPhee   \n",
       "\n",
       "                   Genre                  Label  Producer Release Date  \\\n",
       "0           ['Pop/Rock']    ['Vagrant Records']       NaN  Jan 12 2018   \n",
       "1           ['Pop/Rock']      ['Nuclear Blast']       NaN  Jan 12 2018   \n",
       "2  ['Singer-Songwriter']  ['Low Country Sound']       NaN  Jan 12 2018   \n",
       "3           ['Pop/Rock']             ['Domino']       NaN  Jan 12 2018   \n",
       "4        ['Alternative']         ['Hood Faire']       NaN  Jan 12 2018   \n",
       "\n",
       "   Meta Score  \n",
       "0          69  \n",
       "1          77  \n",
       "2          74  \n",
       "3          74  \n",
       "4          84  "
      ]
     },
     "execution_count": 4,
     "metadata": {},
     "output_type": "execute_result"
    }
   ],
   "source": [
    "metacriticData.head()"
   ]
  },
  {
   "cell_type": "code",
   "execution_count": 5,
   "metadata": {},
   "outputs": [
    {
     "data": {
      "text/html": [
       "<div>\n",
       "<style scoped>\n",
       "    .dataframe tbody tr th:only-of-type {\n",
       "        vertical-align: middle;\n",
       "    }\n",
       "\n",
       "    .dataframe tbody tr th {\n",
       "        vertical-align: top;\n",
       "    }\n",
       "\n",
       "    .dataframe thead th {\n",
       "        text-align: right;\n",
       "    }\n",
       "</style>\n",
       "<table border=\"1\" class=\"dataframe\">\n",
       "  <thead>\n",
       "    <tr style=\"text-align: right;\">\n",
       "      <th></th>\n",
       "      <th>ID</th>\n",
       "      <th>Album</th>\n",
       "      <th>Artist</th>\n",
       "      <th>Genre</th>\n",
       "      <th>Label</th>\n",
       "      <th>Producer</th>\n",
       "      <th>Release Date</th>\n",
       "      <th>Meta Score</th>\n",
       "    </tr>\n",
       "  </thead>\n",
       "  <tbody>\n",
       "    <tr>\n",
       "      <th>0</th>\n",
       "      <td>b1</td>\n",
       "      <td>Be Calm</td>\n",
       "      <td>Air Dubai</td>\n",
       "      <td>['Hip hop', ' pop']</td>\n",
       "      <td>['Hopeless']</td>\n",
       "      <td>['Dwight A. Baker', ' Colin Munroe']</td>\n",
       "      <td>Jul 1 2014</td>\n",
       "      <td>NaN</td>\n",
       "    </tr>\n",
       "    <tr>\n",
       "      <th>1</th>\n",
       "      <td>b2</td>\n",
       "      <td>From Parts Unknown</td>\n",
       "      <td>Every Time I Die</td>\n",
       "      <td>['Metalcore', ' hardcore punk', ' mathcore', ' sludge metal']</td>\n",
       "      <td>['Epitaph']</td>\n",
       "      <td>['Kurt Ballou']</td>\n",
       "      <td>Jul 1 2014</td>\n",
       "      <td>NaN</td>\n",
       "    </tr>\n",
       "    <tr>\n",
       "      <th>2</th>\n",
       "      <td>b3</td>\n",
       "      <td>I'm Almost Happy Here, But I Never Feel At Home</td>\n",
       "      <td>Hotel Books</td>\n",
       "      <td>['Spoken word', ' indie rock', ' emo']</td>\n",
       "      <td>['inVogue']</td>\n",
       "      <td>['Jay Maas', ' Hiram Hernandez']</td>\n",
       "      <td>Jul 1 2014</td>\n",
       "      <td>NaN</td>\n",
       "    </tr>\n",
       "    <tr>\n",
       "      <th>3</th>\n",
       "      <td>b4</td>\n",
       "      <td>Paula</td>\n",
       "      <td>Robin Thicke</td>\n",
       "      <td>['R&amp;B']</td>\n",
       "      <td>['Star Trak', ' Interscope']</td>\n",
       "      <td>['Robin Thicke', ' Pro Jay']</td>\n",
       "      <td>Jul 1 2014</td>\n",
       "      <td>NaN</td>\n",
       "    </tr>\n",
       "    <tr>\n",
       "      <th>4</th>\n",
       "      <td>b5</td>\n",
       "      <td>Isolate and Medicate</td>\n",
       "      <td>Seether</td>\n",
       "      <td>['Post-grunge', ' hard rock', ' alternative metal']</td>\n",
       "      <td>['The Bicycle Music Company', ' Concord Bicycle', ' Spinefarm']</td>\n",
       "      <td>[\"Brendan O'Brien\"]</td>\n",
       "      <td>Jul 1 2014</td>\n",
       "      <td>NaN</td>\n",
       "    </tr>\n",
       "  </tbody>\n",
       "</table>\n",
       "</div>"
      ],
      "text/plain": [
       "   ID                                            Album            Artist  \\\n",
       "0  b1                                          Be Calm         Air Dubai   \n",
       "1  b2                               From Parts Unknown  Every Time I Die   \n",
       "2  b3  I'm Almost Happy Here, But I Never Feel At Home       Hotel Books   \n",
       "3  b4                                            Paula      Robin Thicke   \n",
       "4  b5                             Isolate and Medicate           Seether   \n",
       "\n",
       "                                                           Genre  \\\n",
       "0                                            ['Hip hop', ' pop']   \n",
       "1  ['Metalcore', ' hardcore punk', ' mathcore', ' sludge metal']   \n",
       "2                         ['Spoken word', ' indie rock', ' emo']   \n",
       "3                                                        ['R&B']   \n",
       "4            ['Post-grunge', ' hard rock', ' alternative metal']   \n",
       "\n",
       "                                                             Label  \\\n",
       "0                                                     ['Hopeless']   \n",
       "1                                                      ['Epitaph']   \n",
       "2                                                      ['inVogue']   \n",
       "3                                     ['Star Trak', ' Interscope']   \n",
       "4  ['The Bicycle Music Company', ' Concord Bicycle', ' Spinefarm']   \n",
       "\n",
       "                               Producer Release Date  Meta Score  \n",
       "0  ['Dwight A. Baker', ' Colin Munroe']   Jul 1 2014         NaN  \n",
       "1                       ['Kurt Ballou']   Jul 1 2014         NaN  \n",
       "2      ['Jay Maas', ' Hiram Hernandez']   Jul 1 2014         NaN  \n",
       "3          ['Robin Thicke', ' Pro Jay']   Jul 1 2014         NaN  \n",
       "4                   [\"Brendan O'Brien\"]   Jul 1 2014         NaN  "
      ]
     },
     "execution_count": 5,
     "metadata": {},
     "output_type": "execute_result"
    }
   ],
   "source": [
    "wikiData.head()"
   ]
  },
  {
   "cell_type": "code",
   "execution_count": 6,
   "metadata": {},
   "outputs": [
    {
     "data": {
      "text/plain": [
       "True"
      ]
     },
     "execution_count": 6,
     "metadata": {},
     "output_type": "execute_result"
    }
   ],
   "source": [
    "# set metadata\n",
    "em.set_key(wikiData, 'ID')\n",
    "em.set_key(metacriticData, 'ID')"
   ]
  },
  {
   "cell_type": "markdown",
   "metadata": {},
   "source": [
    "# Blocking via overlap"
   ]
  },
  {
   "cell_type": "code",
   "execution_count": 36,
   "metadata": {},
   "outputs": [
    {
     "name": "stderr",
     "output_type": "stream",
     "text": [
      "0% [##############################] 100% | ETA: 00:00:00\n",
      "Total time elapsed: 00:00:00\n"
     ]
    },
    {
     "name": "stdout",
     "output_type": "stream",
     "text": [
      "96621\n"
     ]
    }
   ],
   "source": [
    "ob = em.OverlapBlocker()\n",
    "\n",
    "#at least 1 word of artist\n",
    "oc = ob.block_tables(metacriticData, wikiData,'Artist','Artist',word_level=True,overlap_size=1,\n",
    "                   l_output_attrs=[\"Album\",\"Artist\",\"Release Date\"],\n",
    "                   r_output_attrs=[\"Album\",\"Artist\",\"Release Date\"],\n",
    "                    show_progress=True)\n",
    "\n",
    "print(len(oc))\n",
    "# file_name = 'overlap_results.csv'\n",
    "# C2.to_csv(file_name, sep=',')\n",
    "# oc.head(1000)"
   ]
  },
  {
   "cell_type": "code",
   "execution_count": 37,
   "metadata": {},
   "outputs": [
    {
     "name": "stderr",
     "output_type": "stream",
     "text": [
      "0% [##############################] 100% | ETA: 00:00:00\n",
      "Total time elapsed: 00:00:00\n"
     ]
    },
    {
     "name": "stdout",
     "output_type": "stream",
     "text": [
      "6975\n"
     ]
    },
    {
     "name": "stderr",
     "output_type": "stream",
     "text": [
      "0% [##############################] 100% | ETA: 00:00:00"
     ]
    },
    {
     "name": "stdout",
     "output_type": "stream",
     "text": [
      "1149\n"
     ]
    },
    {
     "name": "stderr",
     "output_type": "stream",
     "text": [
      "\n",
      "Total time elapsed: 00:00:00\n"
     ]
    }
   ],
   "source": [
    "#at least 1 word of title\n",
    "ob2 = em.OverlapBlocker()\n",
    "oc2 = ob2.block_candset(oc, 'Album', 'Album', word_level=True,overlap_size=1,show_progress = True)\n",
    "print(len(oc2))\n",
    "#oc2.head(50)\n",
    "\n",
    "#2 of the 3 (month day year) of release date\n",
    "ob3 = em.OverlapBlocker()\n",
    "oc3 = ob3.block_candset(oc2, 'Release Date', 'Release Date', word_level=True,overlap_size=2,show_progress = True)\n",
    "print(len(oc3))\n",
    "oc3.head()\n",
    "\n",
    "file_name = 'overlap_results.csv'\n",
    "oc3.to_csv(file_name, sep=',')\n"
   ]
  },
  {
   "cell_type": "markdown",
   "metadata": {
    "collapsed": true
   },
   "source": [
    "# Blocking via attribute equivalence blocker\n",
    "\n",
    "- apply multiple blockers to produce a candidate set of tuple pairs.\n",
    "- assume that two albums with different release dates do not refer to the same real world album.\n",
    "- then assume that two albums with different album names do not refer to the same real world album. So we apply attribute equivalence blocking on Album."
   ]
  },
  {
   "cell_type": "code",
   "execution_count": 28,
   "metadata": {},
   "outputs": [
    {
     "data": {
      "text/plain": [
       "51115"
      ]
     },
     "execution_count": 28,
     "metadata": {},
     "output_type": "execute_result"
    }
   ],
   "source": [
    "# Block with attribute equivalence blocker object\n",
    "ab1 = em.AttrEquivalenceBlocker()\n",
    "\n",
    "# block using release date\n",
    "C1 = ab1.block_tables(metacriticData, wikiData, \n",
    "                   l_block_attr='Release Date', r_block_attr='Release Date', \n",
    "                    l_output_attrs=['Album', 'Artist', 'Release Date'],\n",
    "                    r_output_attrs=['Album', 'Artist', 'Release Date'],\n",
    "                    l_output_prefix='l_', r_output_prefix='r_', allow_missing=True)"
   ]
  },
  {
   "cell_type": "code",
   "execution_count": 30,
   "metadata": {},
   "outputs": [],
   "source": [
    "# Instantiate attribute equivalence blocker object\n",
    "ab2 = em.AttrEquivalenceBlocker()\n",
    "\n",
    "# Use block_tables to apply blocking over two input tables.\n",
    "C2 = ab2.block_candset(C1, 'Album', 'Album', show_progress = False)"
   ]
  },
  {
   "cell_type": "code",
   "execution_count": 31,
   "metadata": {},
   "outputs": [
    {
     "data": {
      "text/plain": [
       "706"
      ]
     },
     "execution_count": 31,
     "metadata": {},
     "output_type": "execute_result"
    }
   ],
   "source": [
    "# Display the candidate set of tuple pairs\n",
    "len(C2)"
   ]
  },
  {
   "cell_type": "code",
   "execution_count": 32,
   "metadata": {},
   "outputs": [],
   "source": [
    "file_name = 'results.csv'\n",
    "C2.to_csv(file_name, sep=',')"
   ]
  },
  {
   "cell_type": "code",
   "execution_count": null,
   "metadata": {
    "collapsed": true
   },
   "outputs": [],
   "source": []
  },
  {
   "cell_type": "code",
   "execution_count": null,
   "metadata": {
    "collapsed": true
   },
   "outputs": [],
   "source": []
  },
  {
   "cell_type": "code",
   "execution_count": null,
   "metadata": {
    "collapsed": true
   },
   "outputs": [],
   "source": []
  },
  {
   "cell_type": "code",
   "execution_count": null,
   "metadata": {
    "collapsed": true
   },
   "outputs": [],
   "source": []
  },
  {
   "cell_type": "code",
   "execution_count": null,
   "metadata": {
    "collapsed": true
   },
   "outputs": [],
   "source": []
  },
  {
   "cell_type": "code",
   "execution_count": null,
   "metadata": {
    "collapsed": true
   },
   "outputs": [],
   "source": []
  },
  {
   "cell_type": "code",
   "execution_count": null,
   "metadata": {
    "collapsed": true
   },
   "outputs": [],
   "source": []
  },
  {
   "cell_type": "code",
   "execution_count": null,
   "metadata": {
    "collapsed": true
   },
   "outputs": [],
   "source": []
  },
  {
   "cell_type": "code",
   "execution_count": null,
   "metadata": {
    "collapsed": true
   },
   "outputs": [],
   "source": []
  },
  {
   "cell_type": "code",
   "execution_count": null,
   "metadata": {
    "collapsed": true
   },
   "outputs": [],
   "source": []
  },
  {
   "cell_type": "code",
   "execution_count": null,
   "metadata": {
    "collapsed": true
   },
   "outputs": [],
   "source": []
  }
 ],
 "metadata": {
  "kernelspec": {
   "display_name": "Python 2",
   "language": "python",
   "name": "python2"
  },
  "language_info": {
   "codemirror_mode": {
    "name": "ipython",
    "version": 2
   },
   "file_extension": ".py",
   "mimetype": "text/x-python",
   "name": "python",
   "nbconvert_exporter": "python",
   "pygments_lexer": "ipython2",
   "version": "2.7.12"
  }
 },
 "nbformat": 4,
 "nbformat_minor": 2
}
