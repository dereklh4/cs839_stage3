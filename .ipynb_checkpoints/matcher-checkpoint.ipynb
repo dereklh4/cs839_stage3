{
 "cells": [
  {
   "cell_type": "code",
   "execution_count": 1,
   "metadata": {
    "collapsed": true
   },
   "outputs": [],
   "source": [
    "# Import py_entitymatching package\n",
    "import py_entitymatching as em\n",
    "import os\n",
    "import pandas as pd\n",
    "\n",
    "# Set the seed value \n",
    "seed = 0"
   ]
  },
  {
   "cell_type": "code",
   "execution_count": 2,
   "metadata": {},
   "outputs": [
    {
     "name": "stdout",
     "output_type": "stream",
     "text": [
      "README.md             blocking.ipynb        candidates_sample.csv\r\n",
      "Untitled.ipynb        candidates.csv        \u001b[34mdata\u001b[m\u001b[m\r\n"
     ]
    }
   ],
   "source": [
    "!ls $datasets_dir"
   ]
  },
  {
   "cell_type": "code",
   "execution_count": 3,
   "metadata": {},
   "outputs": [
    {
     "name": "stderr",
     "output_type": "stream",
     "text": [
      "Metadata file is not present in the given path; proceeding to read the csv file.\n",
      "Metadata file is not present in the given path; proceeding to read the csv file.\n"
     ]
    },
    {
     "data": {
      "text/html": [
       "<div>\n",
       "<style scoped>\n",
       "    .dataframe tbody tr th:only-of-type {\n",
       "        vertical-align: middle;\n",
       "    }\n",
       "\n",
       "    .dataframe tbody tr th {\n",
       "        vertical-align: top;\n",
       "    }\n",
       "\n",
       "    .dataframe thead th {\n",
       "        text-align: right;\n",
       "    }\n",
       "</style>\n",
       "<table border=\"1\" class=\"dataframe\">\n",
       "  <thead>\n",
       "    <tr style=\"text-align: right;\">\n",
       "      <th></th>\n",
       "      <th>Album</th>\n",
       "      <th>Artist</th>\n",
       "      <th>Genre</th>\n",
       "      <th>Label</th>\n",
       "      <th>Producer</th>\n",
       "      <th>Release Date</th>\n",
       "      <th>Meta Score</th>\n",
       "    </tr>\n",
       "  </thead>\n",
       "  <tbody>\n",
       "    <tr>\n",
       "      <th>0</th>\n",
       "      <td>Wrong Creatures</td>\n",
       "      <td>Black Rebel Motorcycle Club</td>\n",
       "      <td>['Pop/Rock']</td>\n",
       "      <td>['Vagrant Records']</td>\n",
       "      <td>NaN</td>\n",
       "      <td>Jan 12 2018</td>\n",
       "      <td>69</td>\n",
       "    </tr>\n",
       "    <tr>\n",
       "      <th>1</th>\n",
       "      <td>No Cross No Crown</td>\n",
       "      <td>Corrosion of Conformity</td>\n",
       "      <td>['Pop/Rock']</td>\n",
       "      <td>['Nuclear Blast']</td>\n",
       "      <td>NaN</td>\n",
       "      <td>Jan 12 2018</td>\n",
       "      <td>77</td>\n",
       "    </tr>\n",
       "    <tr>\n",
       "      <th>2</th>\n",
       "      <td>Encore</td>\n",
       "      <td>Anderson East</td>\n",
       "      <td>['Singer-Songwriter']</td>\n",
       "      <td>['Low Country Sound']</td>\n",
       "      <td>NaN</td>\n",
       "      <td>Jan 12 2018</td>\n",
       "      <td>74</td>\n",
       "    </tr>\n",
       "    <tr>\n",
       "      <th>3</th>\n",
       "      <td>A Day With The Homies [EP]</td>\n",
       "      <td>Panda Bear</td>\n",
       "      <td>['Pop/Rock']</td>\n",
       "      <td>['Domino']</td>\n",
       "      <td>NaN</td>\n",
       "      <td>Jan 12 2018</td>\n",
       "      <td>74</td>\n",
       "    </tr>\n",
       "    <tr>\n",
       "      <th>4</th>\n",
       "      <td>Four Stones</td>\n",
       "      <td>Dean McPhee</td>\n",
       "      <td>['Alternative']</td>\n",
       "      <td>['Hood Faire']</td>\n",
       "      <td>NaN</td>\n",
       "      <td>Jan 12 2018</td>\n",
       "      <td>84</td>\n",
       "    </tr>\n",
       "  </tbody>\n",
       "</table>\n",
       "</div>"
      ],
      "text/plain": [
       "                        Album                       Artist  \\\n",
       "0             Wrong Creatures  Black Rebel Motorcycle Club   \n",
       "1           No Cross No Crown      Corrosion of Conformity   \n",
       "2                      Encore                Anderson East   \n",
       "3  A Day With The Homies [EP]                   Panda Bear   \n",
       "4                 Four Stones                  Dean McPhee   \n",
       "\n",
       "                   Genre                  Label  Producer Release Date  \\\n",
       "0           ['Pop/Rock']    ['Vagrant Records']       NaN  Jan 12 2018   \n",
       "1           ['Pop/Rock']      ['Nuclear Blast']       NaN  Jan 12 2018   \n",
       "2  ['Singer-Songwriter']  ['Low Country Sound']       NaN  Jan 12 2018   \n",
       "3           ['Pop/Rock']             ['Domino']       NaN  Jan 12 2018   \n",
       "4        ['Alternative']         ['Hood Faire']       NaN  Jan 12 2018   \n",
       "\n",
       "   Meta Score  \n",
       "0          69  \n",
       "1          77  \n",
       "2          74  \n",
       "3          74  \n",
       "4          84  "
      ]
     },
     "execution_count": 3,
     "metadata": {},
     "output_type": "execute_result"
    }
   ],
   "source": [
    "# read data\n",
    "A = em.read_csv_metadata('data/metacritic.csv')\n",
    "B = em.read_csv_metadata('data/wikiData.csv')"
   ]
  },
  {
   "cell_type": "code",
   "execution_count": null,
   "metadata": {
    "collapsed": true
   },
   "outputs": [],
   "source": []
  },
  {
   "cell_type": "code",
   "execution_count": null,
   "metadata": {
    "collapsed": true
   },
   "outputs": [],
   "source": []
  },
  {
   "cell_type": "code",
   "execution_count": null,
   "metadata": {
    "collapsed": true
   },
   "outputs": [],
   "source": []
  },
  {
   "cell_type": "code",
   "execution_count": null,
   "metadata": {
    "collapsed": true
   },
   "outputs": [],
   "source": []
  },
  {
   "cell_type": "code",
   "execution_count": null,
   "metadata": {
    "collapsed": true
   },
   "outputs": [],
   "source": []
  }
 ],
 "metadata": {
  "kernelspec": {
   "display_name": "Python 3",
   "language": "python",
   "name": "python3"
  },
  "language_info": {
   "codemirror_mode": {
    "name": "ipython",
    "version": 3
   },
   "file_extension": ".py",
   "mimetype": "text/x-python",
   "name": "python",
   "nbconvert_exporter": "python",
   "pygments_lexer": "ipython3",
   "version": "3.6.3"
  }
 },
 "nbformat": 4,
 "nbformat_minor": 2
}
